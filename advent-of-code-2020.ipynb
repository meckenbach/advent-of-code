{
 "cells": [
  {
   "cell_type": "markdown",
   "metadata": {},
   "source": [
    "# Advent of Code 2020"
   ]
  },
  {
   "cell_type": "markdown",
   "metadata": {},
   "source": [
    "<i>Maximilian Eckenbach<br>December 2020</i>"
   ]
  },
  {
   "cell_type": "markdown",
   "metadata": {},
   "source": [
    "## Jump to day ..."
   ]
  },
  {
   "cell_type": "markdown",
   "metadata": {},
   "source": [
    "[1](#Day-1:-Report-Repair) | [2](#Day-2:-Password-Philosophy) | [3](#Day-3:-Toboggan-Trajectory) | [4]() | [5]() | [6]() | [7]() |  [8]() | [9]() | [10]() | [11]() | [12]() | [13]() | [14]() | [15]() | [16](#Day-16:-Ticket-Translation) | [17]() | [18](#Day-18:-Operation-Order) | [19](#Day-19:-Monster-Messages) | [20](#Day-20:-Jurassic-Jigsaw) | [21](#Day-21:-Allergen-Assessment) | [22](#Day-22:-Crab-Combat) | 23 | 24"
   ]
  },
  {
   "cell_type": "markdown",
   "metadata": {},
   "source": [
    "## Prelude"
   ]
  },
  {
   "cell_type": "code",
   "execution_count": 2,
   "metadata": {},
   "outputs": [],
   "source": [
    "import re\n",
    "import numpy as np\n",
    "from functools import partial, wraps, reduce, lru_cache, cache\n",
    "from operator import mul, sub\n",
    "from collections import namedtuple, defaultdict, OrderedDict, deque\n",
    "from copy import copy\n",
    "from itertools import combinations, permutations, product, starmap, repeat, takewhile, filterfalse, count, chain\n",
    "from io import StringIO\n",
    "from enum import IntEnum, Enum, unique, auto\n",
    "from dataclasses import dataclass\n",
    "from operator import itemgetter\n",
    "from platform import python_version\n",
    "from pprint import pprint\n",
    "from copy import copy, deepcopy\n",
    "import random\n",
    "\n",
    "assert python_version() == '3.9.0'\n",
    "\n",
    "def parse(text, parser=str, sep='\\n', maxsplit=-1):\n",
    "    return map(parser, text.split(sep, maxsplit))\n",
    "\n",
    "\n",
    "def puzzle_input(day, file_template=\"input/2020/day{:02d}.txt\"):\n",
    "    return open(file_template.format(day)).read()\n",
    "\n",
    "\n",
    "def quantify(iterable, pred=bool):\n",
    "    \"Count how many times the predicate is true\"\n",
    "    return sum(map(pred, iterable))\n",
    "\n",
    "\n",
    "def flatten(listOfLists):\n",
    "    \"Flatten one level of nesting\"\n",
    "    return chain.from_iterable(listOfLists)\n",
    "\n",
    "\n",
    "def random_permutation(iterable, r=None):\n",
    "    \"Random selection from itertools.permutations(iterable, r)\"\n",
    "    pool = tuple(iterable)\n",
    "    r = len(pool) if r is None else r\n",
    "    return tuple(random.sample(pool, r))\n",
    "\n",
    "\n",
    "def flip(f):\n",
    "    @wraps(f)\n",
    "    def g(*args):\n",
    "        return f(*args[::-1])\n",
    "    return g"
   ]
  },
  {
   "cell_type": "markdown",
   "metadata": {},
   "source": [
    "## Day 1: Report Repair"
   ]
  },
  {
   "cell_type": "markdown",
   "metadata": {},
   "source": [
    "[← Go Back](#Advent-of-Code-2020)"
   ]
  },
  {
   "cell_type": "code",
   "execution_count": null,
   "metadata": {},
   "outputs": [],
   "source": [
    "in1 = tuple(parse(puzzle_input(1), parser=int))\n",
    "\n",
    "def day1_1(numbers):\n",
    "    return [x * y for x, y in combinations(numbers, 2) if x + y == 2020][0]"
   ]
  },
  {
   "cell_type": "code",
   "execution_count": null,
   "metadata": {},
   "outputs": [],
   "source": [
    "day1_1(in1"
   ]
  },
  {
   "cell_type": "code",
   "execution_count": null,
   "metadata": {},
   "outputs": [],
   "source": [
    "assert _ == 121396"
   ]
  },
  {
   "cell_type": "code",
   "execution_count": null,
   "metadata": {},
   "outputs": [],
   "source": [
    "def day1_2(numbers):\n",
    "    \n",
    "    return [x * y * z for x, y, z in combinations(numbers, 3) if x + y + z == 2020][0]"
   ]
  },
  {
   "cell_type": "code",
   "execution_count": null,
   "metadata": {},
   "outputs": [],
   "source": [
    "day1_2(in1)"
   ]
  },
  {
   "cell_type": "code",
   "execution_count": null,
   "metadata": {},
   "outputs": [],
   "source": [
    "assert _ == 73616634"
   ]
  },
  {
   "cell_type": "markdown",
   "metadata": {},
   "source": [
    "## Day 2: Password Philosophy"
   ]
  },
  {
   "cell_type": "markdown",
   "metadata": {},
   "source": [
    "[← Go Back](#Advent-of-Code-2020)"
   ]
  },
  {
   "cell_type": "code",
   "execution_count": null,
   "metadata": {},
   "outputs": [],
   "source": [
    "def password_policy(line):\n",
    "    a, b, letter, pw = re.match(r'^(\\d+)\\-(\\d+) (\\w): (\\w+)', line).groups()\n",
    "    return int(a), int(b), letter, pw\n",
    "\n",
    "in2 = tuple(parse(puzzle_input(2), parser=password_policy))"
   ]
  },
  {
   "cell_type": "code",
   "execution_count": null,
   "metadata": {
    "tags": []
   },
   "outputs": [],
   "source": [
    "def valid_password(policy):\n",
    "    a, b, letter, pw = policy\n",
    "    return a <= pw.count(letter) <= b"
   ]
  },
  {
   "cell_type": "code",
   "execution_count": null,
   "metadata": {},
   "outputs": [],
   "source": [
    "quantify(in2, valid_password)"
   ]
  },
  {
   "cell_type": "code",
   "execution_count": null,
   "metadata": {},
   "outputs": [],
   "source": [
    "assert _ == 625"
   ]
  },
  {
   "cell_type": "code",
   "execution_count": null,
   "metadata": {},
   "outputs": [],
   "source": [
    "def valid_password2(policy):\n",
    "    a, b, letter, pw = policy\n",
    "    return (pw[a-1] == letter) != (pw[b-1] == letter)"
   ]
  },
  {
   "cell_type": "code",
   "execution_count": null,
   "metadata": {},
   "outputs": [],
   "source": [
    "quantify(in2, valid_password2)"
   ]
  },
  {
   "cell_type": "code",
   "execution_count": null,
   "metadata": {},
   "outputs": [],
   "source": [
    "assert _ == 391"
   ]
  },
  {
   "cell_type": "markdown",
   "metadata": {},
   "source": [
    "## Day 3: Toboggan Trajectory"
   ]
  },
  {
   "cell_type": "markdown",
   "metadata": {},
   "source": [
    "[← Go Back](#Advent-of-Code-2020)"
   ]
  },
  {
   "cell_type": "code",
   "execution_count": null,
   "metadata": {},
   "outputs": [],
   "source": [
    "in3 = np.array(tuple(parse(puzzle_input(3), parser=tuple)))"
   ]
  },
  {
   "cell_type": "code",
   "execution_count": null,
   "metadata": {},
   "outputs": [],
   "source": [
    "def count_trees(grid, slope):\n",
    "    right, down = slope\n",
    "\n",
    "    # dimensions of grid\n",
    "    m, n = grid.shape\n",
    "\n",
    "    return sum(1 for x, y in zip(range(right, right*m, right), range(down, m, down))\n",
    "               if grid[y][x % n] == \"#\")"
   ]
  },
  {
   "cell_type": "code",
   "execution_count": null,
   "metadata": {},
   "outputs": [],
   "source": [
    "def day3_1(grid):\n",
    "    return count_trees(grid, (3, 1))"
   ]
  },
  {
   "cell_type": "code",
   "execution_count": null,
   "metadata": {},
   "outputs": [],
   "source": [
    "day3_1(in3)"
   ]
  },
  {
   "cell_type": "code",
   "execution_count": null,
   "metadata": {},
   "outputs": [],
   "source": [
    "assert _ == 184"
   ]
  },
  {
   "cell_type": "code",
   "execution_count": null,
   "metadata": {},
   "outputs": [],
   "source": [
    "def day3_2(grid):\n",
    "    slopes = ((1, 1), (3, 1), (5, 1), (7, 1), (1, 2))\n",
    "    return reduce(mul, map(partial(count_trees, grid), slopes))"
   ]
  },
  {
   "cell_type": "code",
   "execution_count": null,
   "metadata": {},
   "outputs": [],
   "source": [
    "day3_2(in3)"
   ]
  },
  {
   "cell_type": "code",
   "execution_count": null,
   "metadata": {},
   "outputs": [],
   "source": [
    "assert _ == 2431272960"
   ]
  },
  {
   "cell_type": "markdown",
   "metadata": {},
   "source": [
    "## Day 4: Passport Processing"
   ]
  },
  {
   "cell_type": "markdown",
   "metadata": {},
   "source": [
    "[← Go Back](#Advent-of-Code-2020)"
   ]
  },
  {
   "cell_type": "code",
   "execution_count": null,
   "metadata": {},
   "outputs": [],
   "source": [
    "ex4_txt = \"\"\"\n",
    "ecl:gry pid:0033327 eyr:2020 hcl:#fffffd\n",
    "byr:1937 iyr:2017 cid:147 hgt:183cm\n",
    "\n",
    "iyr:2013 ecl:amb cid:350 eyr:2023 pid:028048884\n",
    "hcl:#cfa07d byr:1929\n",
    "\n",
    "hcl:#ae17e1 iyr:2013\n",
    "eyr:2024\n",
    "ecl:brn pid:760753108 byr:1931\n",
    "hgt:179cm\n",
    "\n",
    "hcl:#cfa07d eyr:2025 pid:166559648\n",
    "iyr:2011 ecl:brn hgt:59in\n",
    "\"\"\""
   ]
  },
  {
   "cell_type": "code",
   "execution_count": null,
   "metadata": {},
   "outputs": [],
   "source": [
    "def parse_in4(text):\n",
    "    return dict(re.findall(r'(\\w+):(\\S+)', text))"
   ]
  },
  {
   "cell_type": "code",
   "execution_count": null,
   "metadata": {},
   "outputs": [],
   "source": [
    "in4 = tuple(parse(puzzle_input(4), parser=parse_in4, sep='\\n\\n'))"
   ]
  },
  {
   "cell_type": "code",
   "execution_count": null,
   "metadata": {
    "tags": []
   },
   "outputs": [],
   "source": [
    "def valid(passport):\n",
    "    required_fields = (\"byr\", \"iyr\", \"eyr\", \"hgt\", \"hcl\", \"ecl\", \"pid\")\n",
    "    return all(field in passport for field in required_fields)"
   ]
  },
  {
   "cell_type": "code",
   "execution_count": null,
   "metadata": {},
   "outputs": [],
   "source": [
    "def day4_1(passports):\n",
    "    return quantify(passports, valid)"
   ]
  },
  {
   "cell_type": "code",
   "execution_count": null,
   "metadata": {},
   "outputs": [],
   "source": [
    "day4_1(in4)"
   ]
  },
  {
   "cell_type": "code",
   "execution_count": null,
   "metadata": {},
   "outputs": [],
   "source": [
    "assert _ == 242"
   ]
  },
  {
   "cell_type": "code",
   "execution_count": null,
   "metadata": {},
   "outputs": [],
   "source": [
    "valid_fields = {\n",
    "    'byr': 1920 <= byr <= 2002,\n",
    "}"
   ]
  },
  {
   "cell_type": "code",
   "execution_count": null,
   "metadata": {
    "tags": []
   },
   "outputs": [],
   "source": [
    "def valid_byr(passport):\n",
    "    try:\n",
    "        byr = int(passport[\"byr\"])\n",
    "        return 1920 <= byr <= 2002\n",
    "\n",
    "    except KeyError:\n",
    "        return False\n",
    "\n",
    "def valid_iyr(passport):\n",
    "    try:\n",
    "        iyr = int(passport[\"iyr\"])\n",
    "        return 2010 <= iyr <= 2020\n",
    "\n",
    "    except KeyError:\n",
    "        return False\n",
    "\n",
    "def valid_eyr(passport):\n",
    "    try:\n",
    "        eyr = int(passport[\"eyr\"])\n",
    "        return 2020 <= eyr <= 2030\n",
    "\n",
    "    except KeyError:\n",
    "        return False\n",
    "\n",
    "def valid_hgt(passport):\n",
    "    try:\n",
    "        match = re.match(r\"(\\d+)(in|cm)\", passport[\"hgt\"])\n",
    "        if not match:\n",
    "            return False\n",
    "\n",
    "        hgt, unit = int(match.group(1)), match.group(2)\n",
    "        if unit == \"cm\":\n",
    "            return 150 <= hgt <= 193\n",
    "        else:\n",
    "            return 59 <= hgt <= 76\n",
    "\n",
    "    except KeyError:\n",
    "        return False\n",
    "    \n",
    "def valid_hcl(passport):\n",
    "    try:\n",
    "        match = re.match(r\"#[0-9a-f]{6}\", passport[\"hcl\"])\n",
    "        if match:\n",
    "            return True\n",
    "        else:\n",
    "            return False\n",
    "            \n",
    "    except KeyError:\n",
    "        return False\n",
    "\n",
    "def valid_ecl(passport):\n",
    "    try:\n",
    "        match = re.match(r\"^(amb|blu|brn|gry|grn|hzl|oth)$\", passport[\"ecl\"])\n",
    "        if match:\n",
    "            return True\n",
    "        else:\n",
    "            return False\n",
    "            \n",
    "    except KeyError:\n",
    "        return False\n",
    "\n",
    "def valid_pid(passport):\n",
    "    try:\n",
    "        match = re.match(r\"^\\d{9}$\", passport[\"pid\"])\n",
    "        if match:\n",
    "            return True\n",
    "        else:\n",
    "            return False\n",
    "            \n",
    "    except KeyError:\n",
    "        return False"
   ]
  },
  {
   "cell_type": "code",
   "execution_count": null,
   "metadata": {},
   "outputs": [],
   "source": [
    "passports = []"
   ]
  },
  {
   "cell_type": "code",
   "execution_count": null,
   "metadata": {},
   "outputs": [],
   "source": [
    "required_fields = (\"byr\", \"iyr\", \"eyr\", \"hgt\", \"hcl\", \"ecl\", \"pid\")\n",
    "for fil in required_fields:\n",
    "    passports = filter(fil, in4)\n",
    "\n",
    "[field for field in required_fields if d[field]()"
   ]
  },
  {
   "cell_type": "code",
   "execution_count": null,
   "metadata": {},
   "outputs": [],
   "source": [
    "len(list(passports))"
   ]
  },
  {
   "cell_type": "markdown",
   "metadata": {},
   "source": [
    "## Day 5: Binary Boarding"
   ]
  },
  {
   "cell_type": "markdown",
   "metadata": {},
   "source": [
    "[← Go Back](#Advent-of-Code-2020)"
   ]
  },
  {
   "cell_type": "code",
   "execution_count": null,
   "metadata": {},
   "outputs": [],
   "source": [
    "in5 = tuple(parse(puzzle_input(5)))"
   ]
  },
  {
   "cell_type": "code",
   "execution_count": null,
   "metadata": {},
   "outputs": [],
   "source": [
    "def get_row(bp):\n",
    "    rows = range(128)\n",
    "    for letter in bp[:7]:\n",
    "        if letter == \"F\":\n",
    "            rows = rows[:len(rows)//2]\n",
    "        else:\n",
    "            rows = rows[len(rows)//2:]\n",
    "    return rows[0]"
   ]
  },
  {
   "cell_type": "code",
   "execution_count": null,
   "metadata": {},
   "outputs": [],
   "source": [
    "def get_col(bp):\n",
    "    cols = range(8)\n",
    "    for letter in bp[7:]:\n",
    "        if letter == \"L\":\n",
    "            cols = cols[:len(cols)//2]\n",
    "        else:\n",
    "            cols = cols[len(cols)//2:]\n",
    "    return cols[0]"
   ]
  },
  {
   "cell_type": "code",
   "execution_count": null,
   "metadata": {},
   "outputs": [],
   "source": [
    "def seat_id(bp):\n",
    "    return get_row(bp) * 8 + get_col(bp)"
   ]
  },
  {
   "cell_type": "code",
   "execution_count": null,
   "metadata": {},
   "outputs": [],
   "source": [
    "test1 = \"BFFFBBFRRR\"\n",
    "assert get_row(test1) == 70\n",
    "assert get_col(test1) == 7\n",
    "assert seat_id(test1) == 567"
   ]
  },
  {
   "cell_type": "code",
   "execution_count": null,
   "metadata": {},
   "outputs": [],
   "source": [
    "max(map(seat_id, in5))"
   ]
  },
  {
   "cell_type": "code",
   "execution_count": null,
   "metadata": {},
   "outputs": [],
   "source": [
    "assert _ == 818"
   ]
  },
  {
   "cell_type": "markdown",
   "metadata": {},
   "source": [
    "Part 2"
   ]
  },
  {
   "cell_type": "code",
   "execution_count": null,
   "metadata": {},
   "outputs": [],
   "source": [
    "plane = []\n",
    "for row in range(128):\n",
    "    lst = []\n",
    "    for col in range(8):\n",
    "        lst.append(0)\n",
    "    lst.append(row)\n",
    "    plane.append(lst)"
   ]
  },
  {
   "cell_type": "code",
   "execution_count": null,
   "metadata": {},
   "outputs": [],
   "source": [
    "for seat in map(lambda bp: (get_row(bp), get_col(bp)), bps):\n",
    "    row, col = seat\n",
    "    plane[row][col] = 1\n",
    "    "
   ]
  },
  {
   "cell_type": "code",
   "execution_count": null,
   "metadata": {},
   "outputs": [],
   "source": [
    "len(list(map(lambda bp: (get_row(bp), get_col(bp)), bps)))"
   ]
  },
  {
   "cell_type": "markdown",
   "metadata": {},
   "source": [
    "## Day 6: Custom Customs"
   ]
  },
  {
   "cell_type": "markdown",
   "metadata": {},
   "source": [
    "[← Go Back](#Advent-of-Code-2020)"
   ]
  },
  {
   "cell_type": "code",
   "execution_count": null,
   "metadata": {},
   "outputs": [],
   "source": [
    "example6 = \"\"\"abc\n",
    "\n",
    "a\n",
    "b\n",
    "c\n",
    "\n",
    "ab\n",
    "ac\n",
    "\n",
    "a\n",
    "a\n",
    "a\n",
    "a\n",
    "\n",
    "b\"\"\""
   ]
  },
  {
   "cell_type": "code",
   "execution_count": null,
   "metadata": {},
   "outputs": [],
   "source": [
    "def group(text):\n",
    "    return [set(person) for person in text.split('\\n')]"
   ]
  },
  {
   "cell_type": "code",
   "execution_count": null,
   "metadata": {},
   "outputs": [],
   "source": [
    "in6 = tuple(parse(puzzle_input(6), parser=group, sep='\\n\\n'))"
   ]
  },
  {
   "cell_type": "code",
   "execution_count": null,
   "metadata": {},
   "outputs": [],
   "source": [
    "def count_questions(group):\n",
    "    return len(set.union(*group))"
   ]
  },
  {
   "cell_type": "code",
   "execution_count": null,
   "metadata": {},
   "outputs": [],
   "source": [
    "sum(map(count_questions, in6))"
   ]
  },
  {
   "cell_type": "code",
   "execution_count": null,
   "metadata": {},
   "outputs": [],
   "source": [
    "assert _ == 6530"
   ]
  },
  {
   "cell_type": "code",
   "execution_count": null,
   "metadata": {},
   "outputs": [],
   "source": [
    "# Part 2\n",
    "\n",
    "def count_questions(group):\n",
    "    return len(set.intersection(*group))\n",
    "\n",
    "sum(map(count_questions, in6))"
   ]
  },
  {
   "cell_type": "code",
   "execution_count": null,
   "metadata": {},
   "outputs": [],
   "source": [
    "assert _ == 3323"
   ]
  },
  {
   "cell_type": "markdown",
   "metadata": {},
   "source": [
    "## Day 7: Handy Haversacks"
   ]
  },
  {
   "cell_type": "markdown",
   "metadata": {},
   "source": [
    "[← Go Back](#Advent-of-Code-2020)"
   ]
  },
  {
   "cell_type": "code",
   "execution_count": null,
   "metadata": {},
   "outputs": [],
   "source": [
    "example7 = {'light red': [('bright white', 1), ('muted yellow', 2)],\n",
    "            'dark orange': [('bright white', 3), ('muted yellow', 4)],\n",
    "            'bright white': [('shiny gold', 1)],\n",
    "            'muted yellow': [('shiny gold', 2), ('faded blue', 9)],\n",
    "            'shiny gold': [('dark olive', 1), ('vibrant plum', 2)],\n",
    "            'dark olive': [('faded blue', 3), ('dotted black', 4)],\n",
    "            'vibrant plum': [('faded blue', 5), ('dotted black', 6)],\n",
    "            'faded blue': [],\n",
    "            'dotted black': []}"
   ]
  },
  {
   "cell_type": "code",
   "execution_count": null,
   "metadata": {},
   "outputs": [],
   "source": [
    "def find_path(graph, start, end, path=[]):\n",
    "    path = path + [start]\n",
    "\n",
    "    if not start in graph:\n",
    "        return None\n",
    "\n",
    "    if start == end:\n",
    "        return path\n",
    "        \n",
    "    for vertex, _ in graph[start]:\n",
    "        if vertex not in path:\n",
    "            newpath = find_path(graph, vertex, end, path)\n",
    "            if newpath: return newpath\n",
    "    \n",
    "    return None"
   ]
  },
  {
   "cell_type": "code",
   "execution_count": null,
   "metadata": {},
   "outputs": [],
   "source": [
    "#assert find_path(example7, 'light red', 'shiny gold') == ['light red', ('1', 'bright white'), ('1', 'shiny gold')]\n",
    "#assert find_path(example7, 'dark orange', 'shiny gold') == True\n",
    "#assert find_path(example7, 'bright white', 'shiny gold') == True\n",
    "#assert find_path(example7, 'muted yellow', 'shiny gold') == True\n",
    "#assert find_path(example7, 'dark olive', 'shiny gold') == False\n",
    "#assert find_path(example7, 'vibrant plum', 'shiny gold') == False\n",
    "#assert find_path(example7, 'faded blue', 'shiny gold') == False\n",
    "#assert find_path(example7, 'dotted black', 'shiny gold') == False"
   ]
  },
  {
   "cell_type": "code",
   "execution_count": null,
   "metadata": {},
   "outputs": [],
   "source": [
    "example7_text = \"\"\"light red bags contain 1 bright white bag, 2 muted yellow bags.\n",
    "dark orange bags contain 3 bright white bags, 4 muted yellow bags.\n",
    "bright white bags contain 1 shiny gold bag.\n",
    "muted yellow bags contain 2 shiny gold bags, 9 faded blue bags.\n",
    "shiny gold bags contain 1 dark olive bag, 2 vibrant plum bags.\n",
    "dark olive bags contain 3 faded blue bags, 4 dotted black bags.\n",
    "vibrant plum bags contain 5 faded blue bags, 6 dotted black bags.\n",
    "faded blue bags contain no other bags.\n",
    "dotted black bags contain no other bags.\"\"\""
   ]
  },
  {
   "cell_type": "code",
   "execution_count": null,
   "metadata": {},
   "outputs": [],
   "source": [
    "test = \"light red bags contain 1 bright white bag, 2 muted yellow bags.\""
   ]
  },
  {
   "cell_type": "code",
   "execution_count": null,
   "metadata": {},
   "outputs": [],
   "source": [
    "def parse_rule(line):\n",
    "    m = re.match(r\"^(?P<bag>\\S+ \\S+) bags contain\", line)\n",
    "    assert m\n",
    "\n",
    "    return m.group('bag'), [(other_bag, int(qty)) for qty, other_bag in re.findall(r\"(\\d+) (\\S+ \\S+) bags?\", line)]"
   ]
  },
  {
   "cell_type": "code",
   "execution_count": null,
   "metadata": {},
   "outputs": [],
   "source": [
    "def parse_in7(text):\n",
    "    rules = {}\n",
    "    for line in text.splitlines():\n",
    "\n",
    "        match = re.match(r\"^(\\S+ \\S+) bags contain\", line)\n",
    "        assert match\n",
    "\n",
    "        bag = match.group(1)\n",
    "\n",
    "        rules[bag] = [(other_bag, int(qty)) for qty, other_bag in re.findall(r\"(\\d+) (\\S+ \\S+) bags?\", line)]\n",
    "            \n",
    "    \n",
    "    return rules"
   ]
  },
  {
   "cell_type": "code",
   "execution_count": null,
   "metadata": {},
   "outputs": [],
   "source": [
    "assert parse_in7(example7_text) == example7"
   ]
  },
  {
   "cell_type": "code",
   "execution_count": null,
   "metadata": {},
   "outputs": [],
   "source": [
    "f = open(\"in07.txt\")\n",
    "in7 = parse_in7(f.read())\n",
    "f.close()\n",
    "\n",
    "# Substract 1 because a shiny gold bag cannot contain itself\n",
    "len([bag_color for bag_color in in7.keys() if find_path(in7, bag_color, 'shiny gold')])-1"
   ]
  },
  {
   "cell_type": "code",
   "execution_count": null,
   "metadata": {},
   "outputs": [],
   "source": [
    "assert _ == 161"
   ]
  },
  {
   "cell_type": "markdown",
   "metadata": {},
   "source": [
    "Part 2"
   ]
  },
  {
   "cell_type": "code",
   "execution_count": null,
   "metadata": {},
   "outputs": [],
   "source": [
    "def count_bags(rules, start):\n",
    "    total = 0\n",
    "    for bag, qty in rules[start]:\n",
    "        total = total + qty + qty * count_bags(rules, bag)\n",
    "    return total"
   ]
  },
  {
   "cell_type": "code",
   "execution_count": null,
   "metadata": {},
   "outputs": [],
   "source": [
    "count_bags(in7, 'shiny gold')"
   ]
  },
  {
   "cell_type": "code",
   "execution_count": null,
   "metadata": {},
   "outputs": [],
   "source": [
    "assert _ == 30899"
   ]
  },
  {
   "cell_type": "markdown",
   "metadata": {},
   "source": [
    "## Day 8: Handheld Halting "
   ]
  },
  {
   "cell_type": "markdown",
   "metadata": {},
   "source": [
    "[← Go Back](#Advent-of-Code-2020)"
   ]
  },
  {
   "cell_type": "code",
   "execution_count": null,
   "metadata": {},
   "outputs": [],
   "source": [
    "example8_text = \"\"\"nop +0\n",
    "acc +1\n",
    "jmp +4\n",
    "acc +3\n",
    "jmp -3\n",
    "acc -99\n",
    "acc +1\n",
    "jmp -4\n",
    "acc +6\"\"\""
   ]
  },
  {
   "cell_type": "code",
   "execution_count": null,
   "metadata": {},
   "outputs": [],
   "source": [
    "def parse_instructions(line):    \n",
    "    m = re.match(r'(?P<instr>nop|acc|jmp) (?P<arg>[\\+-]\\d+)', line)\n",
    "    assert m\n",
    "\n",
    "    return m.group('instr'), int(m.group('arg'))"
   ]
  },
  {
   "cell_type": "code",
   "execution_count": null,
   "metadata": {},
   "outputs": [],
   "source": [
    "example8 = list(parse(example8_text, parser=parse_instructions))"
   ]
  },
  {
   "cell_type": "code",
   "execution_count": null,
   "metadata": {},
   "outputs": [],
   "source": [
    "def execute(instructions):\n",
    "    instructions = copy(instructions)\n",
    "\n",
    "    accumulator = 0\n",
    "    ip = 0\n",
    "\n",
    "    while ip < len(instructions) and instructions[ip]:\n",
    "        instr, arg = instructions[ip]\n",
    "\n",
    "        instructions[ip] = None\n",
    "\n",
    "        if instr == 'acc':\n",
    "            accumulator += arg\n",
    "            ip += 1\n",
    "        if instr == 'jmp':\n",
    "            ip += arg\n",
    "        if instr == 'nop':\n",
    "            ip += 1\n",
    "    \n",
    "    return accumulator, ip"
   ]
  },
  {
   "cell_type": "code",
   "execution_count": null,
   "metadata": {
    "tags": []
   },
   "outputs": [],
   "source": [
    "assert execute(example8)[0] == 5"
   ]
  },
  {
   "cell_type": "code",
   "execution_count": null,
   "metadata": {},
   "outputs": [],
   "source": [
    "in8 = list(parse(puzzle_input(8), parser=parse_instructions))\n",
    "execute(in8)[0]\n"
   ]
  },
  {
   "cell_type": "code",
   "execution_count": null,
   "metadata": {},
   "outputs": [],
   "source": [
    "assert _ == 1814, _"
   ]
  },
  {
   "cell_type": "markdown",
   "metadata": {},
   "source": [
    "Part 2"
   ]
  },
  {
   "cell_type": "code",
   "execution_count": null,
   "metadata": {},
   "outputs": [],
   "source": [
    "def change_instruction(i, instructions):\n",
    "    instructions = copy(instructions)\n",
    "\n",
    "    instr, arg = instructions[i]\n",
    "\n",
    "    if instr == 'jmp':\n",
    "        instructions[i] = ('nop', arg)\n",
    "    elif instr == 'nop':\n",
    "        instructions[i] = ('jmp', arg)\n",
    "        \n",
    "    return instructions"
   ]
  },
  {
   "cell_type": "code",
   "execution_count": null,
   "metadata": {},
   "outputs": [],
   "source": [
    "result = None\n",
    "for i, line in enumerate(in8):\n",
    "    accumulator, ip = execute(change_instruction(i, in8))\n",
    "    if ip >= len(in8):\n",
    "        # program terminates\n",
    "        result = accumulator\n",
    "        break\n",
    "result"
   ]
  },
  {
   "cell_type": "code",
   "execution_count": null,
   "metadata": {},
   "outputs": [],
   "source": [
    "assert _ == 1056, _"
   ]
  },
  {
   "cell_type": "markdown",
   "metadata": {},
   "source": [
    "## Day 9: Encoding Error"
   ]
  },
  {
   "cell_type": "markdown",
   "metadata": {},
   "source": [
    "[← Go Back](#Advent-of-Code-2020)"
   ]
  },
  {
   "cell_type": "code",
   "execution_count": null,
   "metadata": {},
   "outputs": [],
   "source": [
    "example9_text = \"\"\"35\n",
    "20\n",
    "15\n",
    "25\n",
    "47\n",
    "40\n",
    "62\n",
    "55\n",
    "65\n",
    "95\n",
    "102\n",
    "117\n",
    "150\n",
    "182\n",
    "127\n",
    "219\n",
    "299\n",
    "277\n",
    "309\n",
    "576\"\"\""
   ]
  },
  {
   "cell_type": "code",
   "execution_count": null,
   "metadata": {},
   "outputs": [],
   "source": [
    "example9 = tuple(parse(example9_text, parser=int))"
   ]
  },
  {
   "cell_type": "code",
   "execution_count": null,
   "metadata": {},
   "outputs": [],
   "source": [
    "def first_invalid_number(data, preamble_length=25):\n",
    "    for i in range(preamble_length, len(data)):\n",
    "        preamble = data[i-preamble_length:i]\n",
    "        if len([(a, b) for a, b in combinations(preamble, 2) if a + b == data[i]]) == 0:\n",
    "            return data[i]"
   ]
  },
  {
   "cell_type": "code",
   "execution_count": null,
   "metadata": {},
   "outputs": [],
   "source": [
    "assert first_invalid_number(example9, preamble_length=5) == 127"
   ]
  },
  {
   "cell_type": "code",
   "execution_count": null,
   "metadata": {},
   "outputs": [],
   "source": [
    "in9 = tuple(parse(puzzle_input(9), parser=int))\n",
    "\n",
    "invalid = first_invalid_number(in9)\n",
    "invalid"
   ]
  },
  {
   "cell_type": "code",
   "execution_count": null,
   "metadata": {},
   "outputs": [],
   "source": [
    "assert _ == 105950735"
   ]
  },
  {
   "cell_type": "code",
   "execution_count": null,
   "metadata": {},
   "outputs": [],
   "source": [
    "def find_encryption_weakness(data, invalid, start=0):\n",
    "    for offset in range(2, len(data)):\n",
    "        end = start + offset\n",
    "        numbers = data[start:end]\n",
    "        s = sum(numbers)\n",
    "        if s == invalid:\n",
    "            return max(numbers) + min(numbers)\n",
    "        if s > invalid:\n",
    "            return find_encryption_weakness(data, invalid, start+1)"
   ]
  },
  {
   "cell_type": "code",
   "execution_count": null,
   "metadata": {
    "tags": []
   },
   "outputs": [],
   "source": [
    "assert find_encryption_weakness(example9, 127) == 62"
   ]
  },
  {
   "cell_type": "code",
   "execution_count": null,
   "metadata": {},
   "outputs": [],
   "source": [
    "find_encryption_weakness(in9, invalid)"
   ]
  },
  {
   "cell_type": "code",
   "execution_count": null,
   "metadata": {},
   "outputs": [],
   "source": [
    "assert _ == 13826915"
   ]
  },
  {
   "cell_type": "markdown",
   "metadata": {},
   "source": [
    "## Day 10: Adapter Array"
   ]
  },
  {
   "cell_type": "markdown",
   "metadata": {},
   "source": [
    "[← Go Back](#Advent-of-Code-2020)"
   ]
  },
  {
   "cell_type": "code",
   "execution_count": null,
   "metadata": {},
   "outputs": [],
   "source": [
    "ex10_1_text = \"\"\"16\n",
    "10\n",
    "15\n",
    "5\n",
    "1\n",
    "11\n",
    "7\n",
    "19\n",
    "6\n",
    "12\n",
    "4\"\"\"\n",
    "\n",
    "ex10_2_text = \"\"\"28\n",
    "33\n",
    "18\n",
    "42\n",
    "31\n",
    "14\n",
    "46\n",
    "20\n",
    "48\n",
    "47\n",
    "24\n",
    "23\n",
    "49\n",
    "45\n",
    "19\n",
    "38\n",
    "39\n",
    "11\n",
    "1\n",
    "32\n",
    "25\n",
    "35\n",
    "8\n",
    "17\n",
    "7\n",
    "9\n",
    "4\n",
    "2\n",
    "34\n",
    "10\n",
    "3\"\"\""
   ]
  },
  {
   "cell_type": "code",
   "execution_count": null,
   "metadata": {},
   "outputs": [],
   "source": [
    "ex10_1 = tuple(parse(ex10_1_text, parser=int))\n",
    "ex10_2 = tuple(parse(ex10_2_text, parser=int))"
   ]
  },
  {
   "cell_type": "code",
   "execution_count": null,
   "metadata": {},
   "outputs": [],
   "source": [
    "def jolt_diffs_distribution(adapters):\n",
    "    chain = build_chain(adapters)\n",
    "\n",
    "    distribution = defaultdict(int)\n",
    "    for jd in jolt_diffs(chain):\n",
    "        distribution[jd] +=1\n",
    "\n",
    "    return distribution"
   ]
  },
  {
   "cell_type": "code",
   "execution_count": null,
   "metadata": {},
   "outputs": [],
   "source": [
    "def build_chain(adapters):\n",
    "    chain = [0] # The first element in our chain is the charging outlet with 0 joltage\n",
    "\n",
    "    for adapter in sorted(adapters):\n",
    "        if connectable(chain, adapter):\n",
    "            chain = chain + [adapter]\n",
    "        else:\n",
    "            # Because we want to make sure that we really use all adapters:\n",
    "            assert False\n",
    "    \n",
    "    # Connect the device's built-in adapter\n",
    "    chain += [chain[-1]+3]\n",
    "\n",
    "    return chain"
   ]
  },
  {
   "cell_type": "code",
   "execution_count": null,
   "metadata": {},
   "outputs": [],
   "source": [
    "def jolt_diffs(chain):\n",
    "    return starmap(flip(sub), zip(chain, chain[1:]))"
   ]
  },
  {
   "cell_type": "code",
   "execution_count": null,
   "metadata": {},
   "outputs": [],
   "source": [
    "def connectable(chain, adapter):\n",
    "    assert chain\n",
    "    return adapter - chain[-1]  in (1, 2, 3)"
   ]
  },
  {
   "cell_type": "code",
   "execution_count": null,
   "metadata": {},
   "outputs": [],
   "source": [
    "assert jolt_diffs_distribution(ex10_1)[1] == 7\n",
    "assert jolt_diffs_distribution(ex10_1)[3] == 5\n",
    "\n",
    "assert jolt_diffs_distribution(ex10_2)[1] == 22\n",
    "assert jolt_diffs_distribution(ex10_2)[3] == 10"
   ]
  },
  {
   "cell_type": "code",
   "execution_count": null,
   "metadata": {},
   "outputs": [],
   "source": [
    "in10 = tuple(parse(puzzle_input(10), parser=int))"
   ]
  },
  {
   "cell_type": "code",
   "execution_count": null,
   "metadata": {},
   "outputs": [],
   "source": [
    "jolt_diffs_distribution(in10)[1] * jolt_diffs_distribution(in10)[3]"
   ]
  },
  {
   "cell_type": "code",
   "execution_count": null,
   "metadata": {},
   "outputs": [],
   "source": [
    "assert _ == 2272"
   ]
  },
  {
   "cell_type": "code",
   "execution_count": null,
   "metadata": {},
   "outputs": [],
   "source": [
    "def to_graph(adapters):\n",
    "    g = {}\n",
    "    chain = build_chain(adapters)\n",
    "\n",
    "    for adapter in chain:\n",
    "        g[adapter] = list(filter(partial(connectable, [adapter]), chain))\n",
    "    \n",
    "    return g"
   ]
  },
  {
   "cell_type": "code",
   "execution_count": null,
   "metadata": {},
   "outputs": [],
   "source": [
    "ex10_1_graph = to_graph(ex10_1)"
   ]
  },
  {
   "cell_type": "code",
   "execution_count": null,
   "metadata": {},
   "outputs": [],
   "source": [
    "def count_paths(graph, start, end):\n",
    "\n",
    "    @lru_cache(maxsize=None)\n",
    "    def helper(start, end):\n",
    "        if start == end:\n",
    "            return 1\n",
    "        else:\n",
    "            return sum([helper(adjacent, end) for adjacent in graph[start]])\n",
    "            \n",
    "    return helper(start, end)"
   ]
  },
  {
   "cell_type": "code",
   "execution_count": null,
   "metadata": {},
   "outputs": [],
   "source": [
    "assert count_paths(ex10_1_graph, 0, max(ex10_1_graph.keys())) == 8"
   ]
  },
  {
   "cell_type": "code",
   "execution_count": null,
   "metadata": {
    "tags": []
   },
   "outputs": [],
   "source": [
    "in10_graph = to_graph(in10)\n",
    "\n",
    "count_paths(in10_graph, 0, max(in10_graph.keys()))"
   ]
  },
  {
   "cell_type": "code",
   "execution_count": null,
   "metadata": {},
   "outputs": [],
   "source": [
    "assert _ == 84627647627264"
   ]
  },
  {
   "cell_type": "markdown",
   "metadata": {},
   "source": [
    "## Day 11: Seating System"
   ]
  },
  {
   "cell_type": "markdown",
   "metadata": {},
   "source": [
    "[← Go Back](#Advent-of-Code-2020)"
   ]
  },
  {
   "cell_type": "code",
   "execution_count": null,
   "metadata": {},
   "outputs": [],
   "source": [
    "ex11_text = \"\"\"L.LL.LL.LL\n",
    "LLLLLLL.LL\n",
    "L.L.L..L..\n",
    "LLLL.LL.LL\n",
    "L.LL.LL.LL\n",
    "L.LLLLL.LL\n",
    "..L.L.....\n",
    "LLLLLLLLLL\n",
    "L.LLLLLL.L\n",
    "L.LLLLL.LL\"\"\""
   ]
  },
  {
   "cell_type": "code",
   "execution_count": null,
   "metadata": {},
   "outputs": [],
   "source": [
    "ex11 = np.array(list(parse(ex11_text, parser=list)))\n"
   ]
  },
  {
   "cell_type": "code",
   "execution_count": null,
   "metadata": {},
   "outputs": [],
   "source": [
    "Pos = namedtuple('Pos', ['row', 'col'])"
   ]
  },
  {
   "cell_type": "code",
   "execution_count": null,
   "metadata": {},
   "outputs": [],
   "source": [
    "def adjacent_seats(layout, pos):\n",
    "    m, n = layout.shape\n",
    "\n",
    "    def within_bounds(pos):\n",
    "        return not (pos.row < 0 or pos.col < 0) and not (pos.row >= m or pos.col >= n)\n",
    "\n",
    "    return [Pos(pos.row+i, pos.col+j)\n",
    "                for i in (-1, 0, 1)\n",
    "                for j in (-1, 0, 1) \n",
    "                if within_bounds(Pos(pos.row+i, pos.col+j)) and not (i == j == 0)]"
   ]
  },
  {
   "cell_type": "code",
   "execution_count": null,
   "metadata": {},
   "outputs": [],
   "source": [
    "def floor(layout, pos):\n",
    "    return layout[pos] == '.'"
   ]
  },
  {
   "cell_type": "code",
   "execution_count": null,
   "metadata": {},
   "outputs": [],
   "source": [
    "def empty_seat(layout, pos):\n",
    "    return layout[pos] == 'L'"
   ]
  },
  {
   "cell_type": "code",
   "execution_count": null,
   "metadata": {},
   "outputs": [],
   "source": [
    "def occup_seat(layout, pos):\n",
    "    return layout[pos] == '#'"
   ]
  },
  {
   "cell_type": "code",
   "execution_count": null,
   "metadata": {},
   "outputs": [],
   "source": [
    "def positions(layout):\n",
    "    m, n = layout.shape\n",
    "    return [Pos(row, col) for row in range(m) for col in range(n)]"
   ]
  },
  {
   "cell_type": "code",
   "execution_count": null,
   "metadata": {},
   "outputs": [],
   "source": [
    "def round(layout):\n",
    "    layout_copy = copy(layout)\n",
    "\n",
    "    changes = 0\n",
    "\n",
    "    for pos in positions(layout):\n",
    "\n",
    "        if empty_seat(layout, pos) and not any(map(partial(occup_seat, layout), adjacent_seats(layout, pos))):\n",
    "            layout_copy[pos] = '#'\n",
    "            changes += 1\n",
    "            continue\n",
    "\n",
    "        if occup_seat(layout, pos) and count(partial(occup_seat, layout), adjacent_seats(layout, pos)) >= 4:\n",
    "            layout_copy[pos] = 'L'\n",
    "            changes += 1\n",
    "            continue\n",
    "\n",
    "    return changes, layout_copy"
   ]
  },
  {
   "cell_type": "code",
   "execution_count": null,
   "metadata": {},
   "outputs": [],
   "source": [
    "def answer(layout):\n",
    "    layout = copy(layout)\n",
    "\n",
    "    while True:\n",
    "        changes, layout = round(layout)\n",
    "        if changes == 0: break\n",
    "\n",
    "    return count(partial(occup_seat, layout), positions(layout))"
   ]
  },
  {
   "cell_type": "code",
   "execution_count": null,
   "metadata": {},
   "outputs": [],
   "source": [
    "answer(ex11)"
   ]
  },
  {
   "cell_type": "code",
   "execution_count": null,
   "metadata": {},
   "outputs": [],
   "source": [
    "assert _ == 37"
   ]
  },
  {
   "cell_type": "code",
   "execution_count": null,
   "metadata": {},
   "outputs": [],
   "source": [
    "in11 = np.array(list(parse(puzzle_input(11), parser=list)))\n",
    "\n",
    "answer(in11)"
   ]
  },
  {
   "cell_type": "code",
   "execution_count": null,
   "metadata": {},
   "outputs": [],
   "source": [
    "assert _ == 2243"
   ]
  },
  {
   "cell_type": "code",
   "execution_count": null,
   "metadata": {},
   "outputs": [],
   "source": [
    "def visible_seats(layout, pos):\n",
    "    m, n = layout.shape\n",
    "\n",
    "    same_row = repeat(pos.row)\n",
    "    same_col = repeat(pos.col)\n",
    "    def E():\n",
    "        return range(pos.col+1, n)\n",
    "    \n",
    "    def W():\n",
    "        return reversed(range(0, pos.col))\n",
    "\n",
    "    def S():\n",
    "        return range(pos.row+1, m)\n",
    "\n",
    "    def N():\n",
    "        return reversed(range(0, pos.row))\n",
    "\n",
    "    directions = [\n",
    "        zip(N(), same_col),\n",
    "        zip(N(), E()),\n",
    "        zip(same_row, E()),\n",
    "        zip(S(), E()),\n",
    "        zip(S(), same_col),\n",
    "        zip(same_row, W()),\n",
    "        zip(S(), W()),\n",
    "        zip(N(), W())\n",
    "    ]\n",
    "\n",
    "    visible = []\n",
    "    for direction in directions:\n",
    "        for pos in direction:\n",
    "            if empty_seat(layout, pos) or occup_seat(layout, pos):\n",
    "                visible.append(pos)\n",
    "                break\n",
    "    return visible"
   ]
  },
  {
   "cell_type": "code",
   "execution_count": null,
   "metadata": {},
   "outputs": [],
   "source": [
    "ex11"
   ]
  },
  {
   "cell_type": "code",
   "execution_count": null,
   "metadata": {},
   "outputs": [],
   "source": [
    "visible_seats(ex11, Pos(1,1))"
   ]
  },
  {
   "cell_type": "code",
   "execution_count": null,
   "metadata": {},
   "outputs": [],
   "source": [
    "def round2(layout):\n",
    "    layout_copy = copy(layout)\n",
    "\n",
    "    changes = 0\n",
    "\n",
    "    for pos in positions(layout):\n",
    "\n",
    "        if empty_seat(layout, pos) and not any(map(partial(occup_seat, layout), visible_seats(layout, pos))):\n",
    "            layout_copy[pos] = '#'\n",
    "            changes += 1\n",
    "            continue\n",
    "\n",
    "        if occup_seat(layout, pos) and count(partial(occup_seat, layout), visible_seats(layout, pos)) >= 5:\n",
    "            layout_copy[pos] = 'L'\n",
    "            changes += 1\n",
    "            continue\n",
    "\n",
    "    return changes, layout_copy"
   ]
  },
  {
   "cell_type": "code",
   "execution_count": null,
   "metadata": {},
   "outputs": [],
   "source": [
    "round2(ex11)"
   ]
  },
  {
   "cell_type": "code",
   "execution_count": null,
   "metadata": {},
   "outputs": [],
   "source": [
    "def answer2(layout):\n",
    "    layout = copy(layout)\n",
    "\n",
    "    while True:\n",
    "        changes, layout = round2(layout)\n",
    "        if changes == 0: break\n",
    "\n",
    "    return count(partial(occup_seat, layout), positions(layout))"
   ]
  },
  {
   "cell_type": "code",
   "execution_count": null,
   "metadata": {},
   "outputs": [],
   "source": [
    "answer2(ex11)"
   ]
  },
  {
   "cell_type": "code",
   "execution_count": null,
   "metadata": {},
   "outputs": [],
   "source": [
    "assert _ == 26"
   ]
  },
  {
   "cell_type": "code",
   "execution_count": null,
   "metadata": {},
   "outputs": [],
   "source": [
    "answer2(in11)"
   ]
  },
  {
   "cell_type": "code",
   "execution_count": null,
   "metadata": {},
   "outputs": [],
   "source": [
    "assert _ == 2027"
   ]
  },
  {
   "cell_type": "markdown",
   "metadata": {},
   "source": [
    "## Day 12: Rain Risk"
   ]
  },
  {
   "cell_type": "markdown",
   "metadata": {},
   "source": [
    "[← Go Back](#Advent-of-Code-2020)"
   ]
  },
  {
   "cell_type": "markdown",
   "metadata": {},
   "source": [
    "The ship is navigating in a two-dimensional Cartesian coordinate plane: Its starting position is the origin, the west-east direction is the x-axis and the north-south direction the y-axis. We can represent the ship's direction by a unit vector and its current position by a point in the plane.\n",
    "\n",
    "           N     \n",
    "           |\n",
    "           |\n",
    "    W------O------ E\n",
    "           |\n",
    "           |\n",
    "           S"
   ]
  },
  {
   "cell_type": "code",
   "execution_count": null,
   "metadata": {},
   "outputs": [],
   "source": [
    "NavInstr = namedtuple('NavInstr', ['act', 'val'])"
   ]
  },
  {
   "cell_type": "code",
   "execution_count": null,
   "metadata": {},
   "outputs": [],
   "source": [
    "ex12 = (NavInstr('F', 10), NavInstr('N', 3), NavInstr('F', 7), NavInstr('R', 90), NavInstr('F', 11))"
   ]
  },
  {
   "cell_type": "code",
   "execution_count": null,
   "metadata": {},
   "outputs": [],
   "source": [
    "@dataclass\n",
    "class Vector:\n",
    "    x: int\n",
    "    y: int"
   ]
  },
  {
   "cell_type": "code",
   "execution_count": null,
   "metadata": {},
   "outputs": [],
   "source": [
    "@dataclass\n",
    "class Ship:\n",
    "    dir: Vector\n",
    "    pos: Vector"
   ]
  },
  {
   "cell_type": "code",
   "execution_count": null,
   "metadata": {},
   "outputs": [],
   "source": [
    "def navigate(ship, navinstrs):\n",
    "\n",
    "    for ni in navinstrs:\n",
    "\n",
    "        if ni.act == 'F':\n",
    "            ship.pos.x += ship.dir.x * ni.val\n",
    "            ship.pos.y += ship.dir.y * ni.val\n",
    "        \n",
    "        elif ni.act == 'N':\n",
    "            ship.pos.y += ni.val\n",
    "\n",
    "        elif ni.act == 'S':\n",
    "            ship.pos.y -= ni.val\n",
    "        \n",
    "        elif ni.act == 'E':\n",
    "            ship.pos.x += ni.val\n",
    "        \n",
    "        elif ni.act == 'W':\n",
    "            ship.pos.x -= ni.val\n",
    "\n",
    "        # Rotate the unit vector. We define the rotation in terms of one or more successive 90° rotations\n",
    "        elif ni.act == 'L':\n",
    "            # Clockwise\n",
    "            for _ in range((ni.val % 360) // 90):\n",
    "                ship.dir.x, ship.dir.y = -ship.dir.y, ship.dir.x\n",
    "\n",
    "        elif ni.act == 'R':\n",
    "            # Counter-clockwise\n",
    "            for _ in range((ni.val % 360) // 90):\n",
    "                ship.dir.x, ship.dir.y = ship.dir.y, -ship.dir.x\n",
    "        \n",
    "        else:\n",
    "            assert False, 'Invalid navigation instruction'\n",
    "    \n",
    "    manhattan_dist = abs(ship.pos.x) + abs(ship.pos.y)\n",
    "\n",
    "    return manhattan_dist"
   ]
  },
  {
   "cell_type": "code",
   "execution_count": null,
   "metadata": {},
   "outputs": [],
   "source": [
    "ship = Ship(Vector(1, 0), Vector(0, 0))\n",
    "\n",
    "manhattan_dist = navigate(ship, ex12)"
   ]
  },
  {
   "cell_type": "code",
   "execution_count": null,
   "metadata": {},
   "outputs": [],
   "source": [
    "ship"
   ]
  },
  {
   "cell_type": "code",
   "execution_count": null,
   "metadata": {},
   "outputs": [],
   "source": [
    "manhattan_dist"
   ]
  },
  {
   "cell_type": "code",
   "execution_count": null,
   "metadata": {},
   "outputs": [],
   "source": [
    "assert _ == 25"
   ]
  },
  {
   "cell_type": "code",
   "execution_count": null,
   "metadata": {},
   "outputs": [],
   "source": [
    "def navinstr_from_str(s):\n",
    "    act, val = re.match(r'^(N|S|E|W|L|R|F)(\\d+)', s).groups()\n",
    "    return NavInstr(act, int(val))"
   ]
  },
  {
   "cell_type": "code",
   "execution_count": null,
   "metadata": {},
   "outputs": [],
   "source": [
    "in12 = tuple(parse(puzzle_input(12), parser=navinstr_from_str))"
   ]
  },
  {
   "cell_type": "code",
   "execution_count": null,
   "metadata": {},
   "outputs": [],
   "source": [
    "ship = Ship(Dir.EAST, Pos(0, 0))\n",
    "\n",
    "navigate(ship, in12)"
   ]
  },
  {
   "cell_type": "code",
   "execution_count": null,
   "metadata": {},
   "outputs": [],
   "source": [
    "assert _ == 1710"
   ]
  },
  {
   "cell_type": "code",
   "execution_count": null,
   "metadata": {},
   "outputs": [],
   "source": [
    "def navigate(ship, navinstrs):\n",
    "\n",
    "    for ni in navinstrs:\n",
    "\n",
    "        if ni.act == 'F':\n",
    "            ship.pos.x += ship.dir.x * ni.val\n",
    "            ship.pos.y += ship.dir.y * ni.val\n",
    "        \n",
    "        elif ni.act == 'N':\n",
    "            ship.dir.y += ni.val\n",
    "\n",
    "        elif ni.act == 'S':\n",
    "            ship.dir.y -= ni.val\n",
    "        \n",
    "        elif ni.act == 'E':\n",
    "            ship.dir.x += ni.val\n",
    "        \n",
    "        elif ni.act == 'W':\n",
    "            ship.dir.x -= ni.val\n",
    "\n",
    "        # Rotate the unit vector. We define the rotation in terms of one or more successive 90° rotations\n",
    "        elif ni.act == 'L':\n",
    "            # Clockwise\n",
    "            for _ in range((ni.val % 360) // 90):\n",
    "                ship.dir.x, ship.dir.y = -ship.dir.y, ship.dir.x\n",
    "\n",
    "        elif ni.act == 'R':\n",
    "            # Counter-clockwise\n",
    "            for _ in range((ni.val % 360) // 90):\n",
    "                ship.dir.x, ship.dir.y = ship.dir.y, -ship.dir.x\n",
    "        \n",
    "        else:\n",
    "            assert False, 'Invalid navigation instruction'\n",
    "    \n",
    "    manhattan_dist = abs(ship.pos.x) + abs(ship.pos.y)\n",
    "\n",
    "    return manhattan_dist"
   ]
  },
  {
   "cell_type": "code",
   "execution_count": null,
   "metadata": {},
   "outputs": [],
   "source": [
    "ship = Ship(Vector(10, 1), Vector(0, 0))"
   ]
  },
  {
   "cell_type": "code",
   "execution_count": null,
   "metadata": {},
   "outputs": [],
   "source": [
    "navigate(ship, ex12)"
   ]
  },
  {
   "cell_type": "code",
   "execution_count": null,
   "metadata": {},
   "outputs": [],
   "source": [
    "assert _ == 286"
   ]
  },
  {
   "cell_type": "code",
   "execution_count": null,
   "metadata": {},
   "outputs": [],
   "source": [
    "ship = Ship(Vector(10, 1), Vector(0, 0))\n",
    "navigate(ship, in12)"
   ]
  },
  {
   "cell_type": "code",
   "execution_count": null,
   "metadata": {},
   "outputs": [],
   "source": [
    "assert _ == 62045"
   ]
  },
  {
   "cell_type": "markdown",
   "metadata": {},
   "source": [
    "## Day 13: Shuttle Search"
   ]
  },
  {
   "cell_type": "markdown",
   "metadata": {},
   "source": [
    "[← Go Back](#Advent-of-Code-2020)"
   ]
  },
  {
   "cell_type": "code",
   "execution_count": null,
   "metadata": {},
   "outputs": [],
   "source": [
    "ex13 = (939, 7, 13, 1, 1, 59, 1, 31, 19)"
   ]
  },
  {
   "cell_type": "code",
   "execution_count": null,
   "metadata": {},
   "outputs": [],
   "source": [
    "in13 = tuple(parse(puzzle_input(13).replace('\\n', ',').replace('x,', '1,'), sep=',', parser=int))"
   ]
  },
  {
   "cell_type": "code",
   "execution_count": null,
   "metadata": {},
   "outputs": [],
   "source": [
    "def departs_at(t, bus_id):\n",
    "    \"\"\"Every bus departs at t = 0 and at all multiples of `bus_id`.\"\"\"\n",
    "    return True if t == 0 else t % bus_id == 0"
   ]
  },
  {
   "cell_type": "code",
   "execution_count": null,
   "metadata": {},
   "outputs": [],
   "source": [
    "def day13_1(notes):\n",
    "    earliest, *bus_ids = notes\n",
    "\n",
    "    d = {bus_id: next(t for t in count(earliest) if departs_at(t, bus_id))\n",
    "        for bus_id in bus_ids if bus_id != 1}\n",
    "\n",
    "    bus_id, t = min(d.items(), key=itemgetter(1))\n",
    "\n",
    "    return (t - earliest) * bus_id"
   ]
  },
  {
   "cell_type": "code",
   "execution_count": null,
   "metadata": {},
   "outputs": [],
   "source": [
    "day13_1(in13)"
   ]
  },
  {
   "cell_type": "code",
   "execution_count": null,
   "metadata": {},
   "outputs": [],
   "source": [
    "assert _ == 2045"
   ]
  },
  {
   "cell_type": "code",
   "execution_count": null,
   "metadata": {},
   "outputs": [],
   "source": [
    "def day13_2(notes):\n",
    "    bus_ids = notes[1:]\n",
    "\n",
    "    return crt([-i for i in range(len(bus_ids))], bus_ids)"
   ]
  },
  {
   "cell_type": "code",
   "execution_count": null,
   "metadata": {},
   "outputs": [],
   "source": [
    "def crt(a, n):\n",
    "    \n",
    "    result = 0\n",
    "\n",
    "    N = reduce(mul, n)\n",
    "    \n",
    "    for ai, ni in zip(a, n):\n",
    "        bi = N // ni\n",
    "        result += ai * bi * pow(bi, -1, mod=ni)\n",
    "    \n",
    "    return result % N"
   ]
  },
  {
   "cell_type": "code",
   "execution_count": null,
   "metadata": {},
   "outputs": [],
   "source": [
    "assert day13_2([None,17,1,13,19]) == 3417\n",
    "assert day13_2([None,67,7,59,61]) == 754018\n",
    "assert day13_2([None,67,1,7,59,61]) == 779210\n",
    "assert day13_2([None,67,7,1,59,61]) == 1261476\n",
    "assert day13_2([None,1789,37,47,1889]) == 1202161486"
   ]
  },
  {
   "cell_type": "code",
   "execution_count": null,
   "metadata": {},
   "outputs": [],
   "source": [
    "day13_2(in13)"
   ]
  },
  {
   "cell_type": "code",
   "execution_count": null,
   "metadata": {},
   "outputs": [],
   "source": [
    "assert _ == 402251700208309"
   ]
  },
  {
   "cell_type": "markdown",
   "metadata": {},
   "source": [
    "## Day 14: Docking Data"
   ]
  },
  {
   "cell_type": "markdown",
   "metadata": {},
   "source": [
    "[← Go Back](#Advent-of-Code-2020)"
   ]
  },
  {
   "cell_type": "code",
   "execution_count": null,
   "metadata": {},
   "outputs": [],
   "source": [
    "ex14_1 = ('XXXXXXXXXXXXXXXXXXXXXXXXXXXXX1XXXX0X',\n",
    "          (8, 11),\n",
    "          (7, 101),\n",
    "          (8, 0))"
   ]
  },
  {
   "cell_type": "code",
   "execution_count": null,
   "metadata": {},
   "outputs": [],
   "source": [
    "def parse_program(line):\n",
    "    match = re.match(r'^mask = (\\S+)$', line)\n",
    "    if match:\n",
    "        return match.group(1)\n",
    "    \n",
    "    match = re.match(r'^mem\\[(\\d+)\\] = (\\d+)', line)\n",
    "    if match:\n",
    "        return int(match.group(1)), int(match.group(2))"
   ]
  },
  {
   "cell_type": "code",
   "execution_count": null,
   "metadata": {},
   "outputs": [],
   "source": [
    "in14 = tuple(parse(puzzle_input(14), parser=parse_program))"
   ]
  },
  {
   "cell_type": "code",
   "execution_count": null,
   "metadata": {},
   "outputs": [],
   "source": [
    "def day14_1(program):\n",
    "    \n",
    "    def apply(val: int, bitmask: str):\n",
    "        val = list(np.binary_repr(val, width=36))\n",
    "\n",
    "        for i, bit in enumerate(bitmask):\n",
    "            if bit == '1' or bit == '0':\n",
    "                val[i] = bit \n",
    "\n",
    "        val = ''.join(val)\n",
    "\n",
    "        return int(val, 2)\n",
    "    \n",
    "    bitmask = \"\"; memory = {}\n",
    "    \n",
    "    for line in program:\n",
    "        \n",
    "        if isinstance(line, str):\n",
    "            bitmask = line\n",
    "             \n",
    "        else:\n",
    "            addr, val = line\n",
    "            memory[addr] = apply(val, bitmask)\n",
    "            continue\n",
    "\n",
    "    return sum(memory.values())"
   ]
  },
  {
   "cell_type": "code",
   "execution_count": null,
   "metadata": {},
   "outputs": [],
   "source": [
    "day14_1(ex14_1)"
   ]
  },
  {
   "cell_type": "code",
   "execution_count": null,
   "metadata": {},
   "outputs": [],
   "source": [
    "day14_1(in14)"
   ]
  },
  {
   "cell_type": "code",
   "execution_count": null,
   "metadata": {},
   "outputs": [],
   "source": [
    "assert _ == 15919415426101"
   ]
  },
  {
   "cell_type": "code",
   "execution_count": null,
   "metadata": {},
   "outputs": [],
   "source": [
    "def day14_2(program):\n",
    "    \n",
    "    def decode(addr: int, bitmask: str):\n",
    "        addr = list(np.binary_repr(addr, width=36))\n",
    "\n",
    "        for i, bit in enumerate(bitmask):\n",
    "            if bit == '1' or bit == 'X':\n",
    "                addr[i] = bit \n",
    "\n",
    "        addr = ''.join(addr).replace('X', '{}')\n",
    "\n",
    "        binary = {0, 1}\n",
    "        nfloat = bitmask.count('X')\n",
    "\n",
    "        return [int(addr.format(*p), 2) for p in product(*([binary] * nfloat))]\n",
    "    \n",
    "    bitmask = \"\"; memory = {}\n",
    "    \n",
    "    for line in program:\n",
    "        \n",
    "        if isinstance(line, str):\n",
    "            bitmask = line\n",
    "            \n",
    "        else:\n",
    "            addr, val = line\n",
    "            for decoded_addr in decode(addr, bitmask):\n",
    "                memory[decoded_addr] = val\n",
    "    \n",
    "    return sum(memory.values())"
   ]
  },
  {
   "cell_type": "code",
   "execution_count": null,
   "metadata": {},
   "outputs": [],
   "source": [
    "day14_2(in14)"
   ]
  },
  {
   "cell_type": "code",
   "execution_count": null,
   "metadata": {},
   "outputs": [],
   "source": [
    "assert _ == 3443997590975"
   ]
  },
  {
   "cell_type": "markdown",
   "metadata": {},
   "source": [
    "## Day 15: Rambunctious Recitation"
   ]
  },
  {
   "cell_type": "markdown",
   "metadata": {},
   "source": [
    "[← Go Back](#Advent-of-Code-2020)"
   ]
  },
  {
   "cell_type": "code",
   "execution_count": null,
   "metadata": {},
   "outputs": [],
   "source": [
    "def memory_game(numbers, n):\n",
    "\n",
    "    turn, prev = len(numbers)+1, numbers[-1]\n",
    "    \n",
    "    spoken = dict(zip(numbers, zip(range(1, turn), range(1, turn))))\n",
    "\n",
    "    while turn <= n:\n",
    "        \n",
    "        last, before = spoken[prev]\n",
    "        number = last - before\n",
    "        \n",
    "        if number not in spoken:\n",
    "            spoken[number] = (turn, turn)\n",
    "        else:\n",
    "            last, _ = spoken[number]\n",
    "            spoken[number] = turn, last\n",
    "        \n",
    "        prev = number\n",
    "        turn += 1\n",
    "        \n",
    "    return prev"
   ]
  },
  {
   "cell_type": "code",
   "execution_count": null,
   "metadata": {},
   "outputs": [],
   "source": [
    "def day15_1(numbers):\n",
    "    return memory_game(numbers, 2020)"
   ]
  },
  {
   "cell_type": "code",
   "execution_count": null,
   "metadata": {},
   "outputs": [],
   "source": [
    "memory_game([0,3,6],6)"
   ]
  },
  {
   "cell_type": "code",
   "execution_count": null,
   "metadata": {},
   "outputs": [],
   "source": [
    "in15 = [1,0,18,10,19,6]\n",
    "\n",
    "day15_1(in15)"
   ]
  },
  {
   "cell_type": "code",
   "execution_count": null,
   "metadata": {},
   "outputs": [],
   "source": [
    "assert _ == 441"
   ]
  },
  {
   "cell_type": "code",
   "execution_count": null,
   "metadata": {},
   "outputs": [],
   "source": [
    "def day15_2(numbers):\n",
    "    return game(numbers, 30000000)\n",
    "\n",
    "%timeit day15_2(in15)"
   ]
  },
  {
   "cell_type": "code",
   "execution_count": null,
   "metadata": {},
   "outputs": [],
   "source": [
    "[0,3,6,0,3,3,1,0,4,0].index(3)"
   ]
  },
  {
   "cell_type": "markdown",
   "metadata": {},
   "source": [
    "## Day 16: Ticket Translation"
   ]
  },
  {
   "cell_type": "markdown",
   "metadata": {},
   "source": [
    "[← Go Back](#Advent-of-Code-2020)"
   ]
  },
  {
   "cell_type": "code",
   "execution_count": null,
   "metadata": {},
   "outputs": [],
   "source": [
    "def valid_value(rules, val):\n",
    "    return set(field\n",
    "               for field, ranges in rules.items()\n",
    "               for start, stop in ranges\n",
    "               if val in range(start, stop+1))"
   ]
  },
  {
   "cell_type": "code",
   "execution_count": null,
   "metadata": {},
   "outputs": [],
   "source": [
    "def invalid_values(rules, ticket):\n",
    "    return [val for val in ticket if not valid_value(rules, val)]"
   ]
  },
  {
   "cell_type": "code",
   "execution_count": null,
   "metadata": {},
   "outputs": [],
   "source": [
    "def day16_1(rules, myticket, nearbytickets):\n",
    "    return sum(val\n",
    "               for ticket in nearbytickets\n",
    "               for val in invalid_values(rules, ticket))"
   ]
  },
  {
   "cell_type": "code",
   "execution_count": null,
   "metadata": {},
   "outputs": [],
   "source": [
    "ex16 = {\n",
    "    'class': ((1,3), (5,7)),\n",
    "    'row': ((6,11), (33,44)),\n",
    "    'seat': ((13,40), (45,50))\n",
    "}"
   ]
  },
  {
   "cell_type": "code",
   "execution_count": null,
   "metadata": {},
   "outputs": [],
   "source": [
    "assert invalid_values(ex16, [7,3,47]) == []\n",
    "assert invalid_values(ex16, [40,4,50]) == [4]\n",
    "assert invalid_values(ex16, [55,2,20]) == [55]\n",
    "assert invalid_values(ex16, [38,6,12]) == [12]"
   ]
  },
  {
   "cell_type": "code",
   "execution_count": null,
   "metadata": {},
   "outputs": [],
   "source": [
    "ex16_nearby = ([7,3,47], [40,4,50], [55,2,20], [38,6,12])"
   ]
  },
  {
   "cell_type": "code",
   "execution_count": null,
   "metadata": {},
   "outputs": [],
   "source": [
    "day16_1(ex16, None, ex16_nearby)"
   ]
  },
  {
   "cell_type": "code",
   "execution_count": null,
   "metadata": {},
   "outputs": [],
   "source": [
    "assert _ == 71"
   ]
  },
  {
   "cell_type": "code",
   "execution_count": null,
   "metadata": {},
   "outputs": [],
   "source": [
    "def parse_in16(doc):\n",
    "    match = re.findall(r'(.+): (\\d+)-(\\d+) or (\\d+)-(\\d+)', doc)\n",
    "    if match:\n",
    "        return {field: ((int(a), int(b)), (int(c), int(d)))\n",
    "                for field, a, b, c, d in match}\n",
    "    \n",
    "    match = re.match(r'your ticket:\\n(\\S+)', doc)\n",
    "    if match:\n",
    "        return tuple(map(int, match.group(1).split(',')))\n",
    "    \n",
    "    _, tickets = doc.split(':')\n",
    "    if tickets:\n",
    "        return tuple(tuple(map(int, ticket.split(','))) for ticket in tickets.split())"
   ]
  },
  {
   "cell_type": "code",
   "execution_count": null,
   "metadata": {},
   "outputs": [],
   "source": [
    "in16 = tuple(parse(puzzle_input(16), sep='\\n\\n', parser=parse_in16))"
   ]
  },
  {
   "cell_type": "code",
   "execution_count": null,
   "metadata": {},
   "outputs": [],
   "source": [
    "day16_1(*in16)"
   ]
  },
  {
   "cell_type": "code",
   "execution_count": null,
   "metadata": {},
   "outputs": [],
   "source": [
    "bool([1])"
   ]
  },
  {
   "cell_type": "code",
   "execution_count": null,
   "metadata": {},
   "outputs": [],
   "source": [
    "assert _ == 21071"
   ]
  },
  {
   "cell_type": "code",
   "execution_count": null,
   "metadata": {},
   "outputs": [],
   "source": [
    "def day16_2(rules, myticket, nearbytickets):\n",
    "    valid_tickets = [ticket for ticket in nearbytickets if not invalid_values(rules, ticket)]\n",
    "    \n",
    "    fields = defaultdict(set)\n",
    "    for pos, field in enumerate(zip(*valid_tickets)):\n",
    "        fields[pos] = set.intersection(*[valid_value(rules, val) for val in field])\n",
    "                \n",
    "    sorted_fields = sorted(fields.items(), key=lambda item: len(item[1]))\n",
    "    \n",
    "    fields, discarded = {}, set()\n",
    "    for pos, potential in sorted_fields: \n",
    "        field = (potential - discarded).pop()\n",
    "        discarded.add(field)\n",
    "        fields[field] = pos\n",
    "        \n",
    "    departures = ('departure location', 'departure station', 'departure platform',\n",
    "                  'departure track', 'departure date', 'departure time')\n",
    "\n",
    "    return reduce(mul, [myticket[i] for i in [fields[key] for key in departures]])"
   ]
  },
  {
   "cell_type": "code",
   "execution_count": null,
   "metadata": {},
   "outputs": [],
   "source": [
    "day16_2(*in16)"
   ]
  },
  {
   "cell_type": "code",
   "execution_count": null,
   "metadata": {},
   "outputs": [],
   "source": [
    "assert _ == 3429967441937"
   ]
  },
  {
   "cell_type": "markdown",
   "metadata": {},
   "source": [
    "## Day 17: Conway Cubes"
   ]
  },
  {
   "cell_type": "markdown",
   "metadata": {},
   "source": [
    "[← Go Back](#Advent-of-Code-2020)"
   ]
  },
  {
   "cell_type": "code",
   "execution_count": null,
   "metadata": {},
   "outputs": [],
   "source": [
    "@dataclass\n",
    "class Cube:\n",
    "    \n",
    "    x : int\n",
    "    y : int = 0\n",
    "    z : int = 0\n",
    "    w : int = 0\n",
    "    \n",
    "    def __hash__(self):\n",
    "        \n",
    "        return hash((self.x, self.y, self.z, self.w))\n",
    "    \n",
    "    def __add__(self, other):\n",
    "        \n",
    "        x = self.x + other.x\n",
    "        y = self.y + other.y\n",
    "        z = self.z + other.z\n",
    "        w = self.w + other.w\n",
    "        \n",
    "        return Cube(x, y, z, w)"
   ]
  },
  {
   "cell_type": "code",
   "execution_count": null,
   "metadata": {},
   "outputs": [],
   "source": [
    "ex17 = {Cube(1, 0), Cube(2, 1), Cube(0, 2), Cube(1, 2), Cube(2, 2)}"
   ]
  },
  {
   "cell_type": "code",
   "execution_count": null,
   "metadata": {},
   "outputs": [],
   "source": [
    "@lru_cache(maxsize=None)\n",
    "def neighbors(cube : Cube, dims=3):\n",
    "    offsets = [{-1, 0, 1}] * dims        \n",
    "    \n",
    "    return set(cube + Cube(*args) for args in product(*offsets)) - {cube}"
   ]
  },
  {
   "cell_type": "code",
   "execution_count": null,
   "metadata": {},
   "outputs": [],
   "source": [
    "assert len(neighbors(Cube(0,0))) == 26\n",
    "assert len(neighbors(Cube(0,0), dims=4)) == 80"
   ]
  },
  {
   "cell_type": "code",
   "execution_count": null,
   "metadata": {},
   "outputs": [],
   "source": [
    "def cycle(active_cubes, dims=3):\n",
    "    \n",
    "    assert 1 <= dims <= 4\n",
    "    \n",
    "    new_active_cubes = set()\n",
    "    \n",
    "    inactive_cubes = set()\n",
    "    \n",
    "    for cube in active_cubes:\n",
    "        active_neighbors = neighbors(cube, dims) & active_cubes\n",
    "        \n",
    "        if len(active_neighbors) in {2, 3}:\n",
    "            new_active_cubes.add(cube)\n",
    "        \n",
    "        # We find the set\n",
    "        inactive_neighbors = neighbors(cube, dims) - active_cubes\n",
    "        inactive_cubes = inactive_cubes | inactive_neighbors\n",
    "        \n",
    "    for cube in inactive_cubes:\n",
    "        active_neighbors = neighbors(cube, dims) & active_cubes\n",
    "        \n",
    "        if len(active_neighbors) == 3:\n",
    "            new_active_cubes.add(cube)\n",
    "\n",
    "    return new_active_cubes"
   ]
  },
  {
   "cell_type": "code",
   "execution_count": null,
   "metadata": {},
   "outputs": [],
   "source": [
    "def day17_1(active_cubes):\n",
    "    active_cubes = copy(active_cubes)\n",
    "    for _ in range(6):\n",
    "        active_cubes = cycle(active_cubes)\n",
    "    return len(active_cubes)"
   ]
  },
  {
   "cell_type": "code",
   "execution_count": null,
   "metadata": {},
   "outputs": [],
   "source": [
    "day17_1(ex17)"
   ]
  },
  {
   "cell_type": "code",
   "execution_count": null,
   "metadata": {},
   "outputs": [],
   "source": [
    "assert _ == 112"
   ]
  },
  {
   "cell_type": "code",
   "execution_count": null,
   "metadata": {},
   "outputs": [],
   "source": [
    "in17 = set()\n",
    "for coord, cube in np.ndenumerate(np.array(list(parse(puzzle_input(17), parser=list)))):\n",
    "    x, y = coord\n",
    "    if cube == '#': in17.add(Cube(x=x, y=y))"
   ]
  },
  {
   "cell_type": "code",
   "execution_count": null,
   "metadata": {},
   "outputs": [],
   "source": [
    "day17_1(in17)"
   ]
  },
  {
   "cell_type": "code",
   "execution_count": null,
   "metadata": {},
   "outputs": [],
   "source": [
    "assert _ == 209"
   ]
  },
  {
   "cell_type": "code",
   "execution_count": null,
   "metadata": {},
   "outputs": [],
   "source": [
    "def day17_2(active_cubes):\n",
    "    active_cubes = copy(active_cubes)\n",
    "    for _ in range(6):\n",
    "        active_cubes = cycle(active_cubes, dims=4)\n",
    "    return len(active_cubes)"
   ]
  },
  {
   "cell_type": "code",
   "execution_count": null,
   "metadata": {},
   "outputs": [],
   "source": [
    "day17_2(ex17)"
   ]
  },
  {
   "cell_type": "code",
   "execution_count": null,
   "metadata": {},
   "outputs": [],
   "source": [
    "assert _ == 848"
   ]
  },
  {
   "cell_type": "code",
   "execution_count": null,
   "metadata": {},
   "outputs": [],
   "source": [
    "day17_2(in17)"
   ]
  },
  {
   "cell_type": "code",
   "execution_count": null,
   "metadata": {},
   "outputs": [],
   "source": [
    "assert _ == 1492"
   ]
  },
  {
   "cell_type": "markdown",
   "metadata": {},
   "source": [
    "## Day 18: Operation Order"
   ]
  },
  {
   "cell_type": "markdown",
   "metadata": {},
   "source": [
    "[← Go Back](#Advent-of-Code-2020)"
   ]
  },
  {
   "cell_type": "markdown",
   "metadata": {},
   "source": [
    "Write a program that evaluates simple arithmetic expressions\n",
    "\n",
    "addition\n",
    "\n",
    "multiplication\n",
    "\n",
    "parentheses\n",
    "\n",
    "different operator precedence: addition and multiplication have same precedence, evaluated left to right"
   ]
  },
  {
   "cell_type": "code",
   "execution_count": null,
   "metadata": {},
   "outputs": [],
   "source": [
    "# Test cases\n",
    "assert Expression('1 + 2 * 3 + 4 * 5 + 6').evaluate() == 71\n",
    "assert Expression('2 * 3 + (4 * 5)').evaluate() == 26\n",
    "assert Expression('5 + (8 * 3 + 9 + 3 * 4 * 3)').evaluate() == 437\n",
    "assert Expression('5 * 9 * (7 * 3 * 3 + 9 * 3 + (8 + 6 * 4))').evaluate() == 12240\n",
    "assert Expression('((2 + 4 * 9) * (6 + 9 * 8 + 6) + 6) + 2 + 4 * 2').evaluate() == 13632"
   ]
  },
  {
   "cell_type": "code",
   "execution_count": null,
   "metadata": {},
   "outputs": [],
   "source": [
    "in18 = tuple(parse(puzzle_input(18)))"
   ]
  },
  {
   "cell_type": "markdown",
   "metadata": {},
   "source": [
    "Grammar (EBNF):\n",
    "   \n",
    "    S ::= E {('+'|'*') E}*\n",
    "    E ::= '(' S ')' | number"
   ]
  },
  {
   "cell_type": "code",
   "execution_count": null,
   "metadata": {},
   "outputs": [],
   "source": [
    "@dataclass\n",
    "class Token():\n",
    "    name: str\n",
    "    val: int = None\n",
    "    \n",
    "    def __eq__(self, other):\n",
    "        return isinstance(other, Token) and other.name == self.name"
   ]
  },
  {
   "cell_type": "code",
   "execution_count": null,
   "metadata": {},
   "outputs": [],
   "source": [
    "class Expression:\n",
    "\n",
    "    def __init__(self, expr):\n",
    "        self.tokens = self.tokenize(expr)\n",
    "        \n",
    "        self.curr_token = None\n",
    "        self.next_token = next(self.tokens, None)\n",
    "       \n",
    "    \n",
    "    def tokenize(self, expr):\n",
    "        p = re.compile(r'(?P<NUMBER>\\d+)|(?P<PLUS>\\+)|(?P<TIMES>\\*)|(?P<LPAREN>\\()|(?P<RPAREN>\\))')\n",
    "        for m in p.finditer(expr):\n",
    "            token = Token(m.lastgroup, m.group())\n",
    "            yield token\n",
    "\n",
    "            \n",
    "    def accept(self, token):\n",
    "        if self.next_token == token:\n",
    "            self.curr_token, self.next_token = self.next_token, next(self.tokens, None)\n",
    "            return True\n",
    "        else:\n",
    "            return False\n",
    "    \n",
    "    \n",
    "    def expect(self, token):\n",
    "        if not self.accept(token): assert False, ('Syntax Error', token, self.curr_token)\n",
    "    \n",
    "    \n",
    "    def S(self):\n",
    "        lhs = self.E()\n",
    "        while self.accept(Token('PLUS')) or self.accept(Token('TIMES')):\n",
    "            operator = self.curr_token\n",
    "\n",
    "            rhs = self.E()\n",
    "\n",
    "            if operator == Token('PLUS'):\n",
    "                lhs += rhs\n",
    "            elif operator == Token('TIMES'):\n",
    "                lhs *= rhs\n",
    "            else:\n",
    "                assert False, 'S'\n",
    "\n",
    "        return lhs\n",
    "\n",
    "    \n",
    "    def E(self):\n",
    "        if self.accept(Token('NUMBER')):\n",
    "            lhs = int(self.curr_token.val)\n",
    "\n",
    "        elif self.accept(Token('LPAREN')):\n",
    "            lhs = self.S()\n",
    "            self.expect(Token('RPAREN'))\n",
    "\n",
    "        else:\n",
    "            assert False, ('E', self.curr_token)\n",
    "\n",
    "        return lhs\n",
    "\n",
    "    \n",
    "    def evaluate(self):\n",
    "        return self.S()"
   ]
  },
  {
   "cell_type": "code",
   "execution_count": null,
   "metadata": {},
   "outputs": [],
   "source": [
    "def day18_1(homework):\n",
    "    return sum(Expression(expr).evaluate() for expr in homework)"
   ]
  },
  {
   "cell_type": "code",
   "execution_count": null,
   "metadata": {},
   "outputs": [],
   "source": [
    "day18_1(in18)"
   ]
  },
  {
   "cell_type": "markdown",
   "metadata": {},
   "source": [
    "    S ::= T {'*' T}*\n",
    "    T ::= E {'+' E}*\n",
    "    E ::= '(' S ')' | number"
   ]
  },
  {
   "cell_type": "code",
   "execution_count": null,
   "metadata": {},
   "outputs": [],
   "source": [
    "class Expression2(Expression):\n",
    "    def S(self):\n",
    "        lhs = self.T()\n",
    "        while self.accept(Token('TIMES')):\n",
    "            rhs = self.T()\n",
    "            lhs *= rhs\n",
    "\n",
    "        return lhs\n",
    "    \n",
    "    def T(self):\n",
    "        lhs = self.E()\n",
    "        while self.accept(Token('PLUS')):\n",
    "            rhs = self.E()\n",
    "            lhs += rhs\n",
    "\n",
    "        return lhs"
   ]
  },
  {
   "cell_type": "code",
   "execution_count": null,
   "metadata": {},
   "outputs": [],
   "source": [
    "def day18_2(homework):\n",
    "    return sum(Expression2(expr).evaluate() for expr in homework)"
   ]
  },
  {
   "cell_type": "code",
   "execution_count": null,
   "metadata": {},
   "outputs": [],
   "source": [
    "day18_2(in18)"
   ]
  },
  {
   "cell_type": "markdown",
   "metadata": {},
   "source": [
    "## Day 19: Monster Messages"
   ]
  },
  {
   "cell_type": "markdown",
   "metadata": {},
   "source": [
    "[← Go Back](#Advent-of-Code-2020)"
   ]
  },
  {
   "cell_type": "code",
   "execution_count": null,
   "metadata": {},
   "outputs": [],
   "source": []
  },
  {
   "cell_type": "code",
   "execution_count": null,
   "metadata": {},
   "outputs": [],
   "source": [
    "def to_re(rules):\n",
    "    rule0 = rules['0']\n",
    "    while not all(map(lambda x: x in 'ab|()', rule0)):\n",
    "        rule0 = ''.join([x.replace(x, rules.get(x, x)) for x in rule0])\n",
    "    return rule0"
   ]
  },
  {
   "cell_type": "code",
   "execution_count": null,
   "metadata": {},
   "outputs": [],
   "source": [
    "to_re(in19[0])"
   ]
  },
  {
   "cell_type": "code",
   "execution_count": null,
   "metadata": {},
   "outputs": [],
   "source": [
    "def parse_rules(rules):\n",
    "    d = {}\n",
    "    for m in re.finditer(r'(\\d+): (.+)', rules):\n",
    "        rule = m.group(2).replace(' ', '').replace('\"', '')\n",
    "        if '|' in rule:\n",
    "            rule = '(' + rule + ')'\n",
    "        \n",
    "        d[m.group(1)] = rule\n",
    "    return d\n",
    "           "
   ]
  },
  {
   "cell_type": "code",
   "execution_count": null,
   "metadata": {},
   "outputs": [],
   "source": [
    "def parse_in19(in19):\n",
    "    rules, messages = in19.split('\\n\\n')\n",
    "    return parse_rules(rules), tuple(parse(messages))"
   ]
  },
  {
   "cell_type": "code",
   "execution_count": null,
   "metadata": {},
   "outputs": [],
   "source": [
    "in19 = parse_in19(puzzle_input(19))"
   ]
  },
  {
   "cell_type": "code",
   "execution_count": null,
   "metadata": {},
   "outputs": [],
   "source": [
    "\n",
    "\n",
    "\n",
    "in19[0]"
   ]
  },
  {
   "cell_type": "code",
   "execution_count": null,
   "metadata": {},
   "outputs": [],
   "source": [
    "test = '''0: 4 1 5\n",
    "1: 2 3 | 3 2\n",
    "2: 4 4 | 5 5\n",
    "3: 4 5 | 5 4\n",
    "4: \"a\"\n",
    "5: \"b\"'''"
   ]
  },
  {
   "cell_type": "code",
   "execution_count": null,
   "metadata": {},
   "outputs": [],
   "source": [
    "1: \n",
    "2: [aa|bb]\n",
    "3: [ab|ba]"
   ]
  },
  {
   "cell_type": "code",
   "execution_count": null,
   "metadata": {},
   "outputs": [],
   "source": [
    "re5 = r'b'\n",
    "re4 = r'a'\n",
    "re3 = '(' + '|'.join([re4 + re5, re5 + re4]) + ')'\n",
    "re2 = '(' + '|'.join([re4 + re4, re5 + re5]) + ')'\n",
    "re1 = '(' + '|'.join([re2 + re3, re3 + re2]) + ')'\n",
    "re0 = re4 + re1 + re5\n",
    "re0"
   ]
  },
  {
   "cell_type": "code",
   "execution_count": null,
   "metadata": {},
   "outputs": [],
   "source": [
    "regexp = '^a(aa|bb)((ab|ba)|(aa|bb))b$'"
   ]
  },
  {
   "cell_type": "code",
   "execution_count": null,
   "metadata": {},
   "outputs": [],
   "source": [
    "re.match(re0, 'ababbb')"
   ]
  },
  {
   "cell_type": "code",
   "execution_count": null,
   "metadata": {},
   "outputs": [],
   "source": [
    "a 2 3 | 3 2 b\n",
    "a 4 4 | 5 5 4 5 | 5 4 | 4 5 | 5 4 4 4 | 5 5 b\n",
    "a a a | b b a b | b a | a b | b a a a | b b b"
   ]
  },
  {
   "cell_type": "code",
   "execution_count": null,
   "metadata": {},
   "outputs": [],
   "source": [
    "test_msg = '''ababbb\n",
    "bababa\n",
    "abbbab\n",
    "aaabbb\n",
    "aaaabbb'''"
   ]
  },
  {
   "cell_type": "code",
   "execution_count": null,
   "metadata": {},
   "outputs": [],
   "source": [
    "test2 = test_msg.split()"
   ]
  },
  {
   "cell_type": "code",
   "execution_count": null,
   "metadata": {},
   "outputs": [],
   "source": [
    "ababbb\n"
   ]
  },
  {
   "cell_type": "code",
   "execution_count": null,
   "metadata": {},
   "outputs": [],
   "source": [
    "test2"
   ]
  },
  {
   "cell_type": "code",
   "execution_count": null,
   "metadata": {},
   "outputs": [],
   "source": [
    "rules = parse_rules(test)"
   ]
  },
  {
   "cell_type": "code",
   "execution_count": null,
   "metadata": {},
   "outputs": [],
   "source": [
    "regex = to_re(rules)"
   ]
  },
  {
   "cell_type": "code",
   "execution_count": null,
   "metadata": {},
   "outputs": [],
   "source": [
    "regex"
   ]
  },
  {
   "cell_type": "code",
   "execution_count": null,
   "metadata": {},
   "outputs": [],
   "source": [
    "re.match('^'+regex+'$', 'ababbb')"
   ]
  },
  {
   "cell_type": "code",
   "execution_count": null,
   "metadata": {},
   "outputs": [],
   "source": [
    "for msg in test2:\n",
    "    if re.match('^'+regex+'$', msg):\n",
    "        print(+1)"
   ]
  },
  {
   "cell_type": "code",
   "execution_count": null,
   "metadata": {},
   "outputs": [],
   "source": [
    "to_re(in19[0])"
   ]
  },
  {
   "cell_type": "code",
   "execution_count": null,
   "metadata": {},
   "outputs": [],
   "source": [
    "def day19_1(rules, messages):\n",
    "    regex = to_re(rules)\n",
    "    return len([m for m in re.findall(regex, msg) for msg in messages])"
   ]
  },
  {
   "cell_type": "markdown",
   "metadata": {},
   "source": [
    "## Day 20: Jurassic Jigsaw"
   ]
  },
  {
   "cell_type": "markdown",
   "metadata": {},
   "source": [
    "[← Go Back](#Advent-of-Code-2020)"
   ]
  },
  {
   "cell_type": "code",
   "execution_count": null,
   "metadata": {},
   "outputs": [],
   "source": [
    "test = \"\"\"Tile 2311:\n",
    "..##.#..#.\n",
    "##..#.....\n",
    "#...##..#.\n",
    "####.#...#\n",
    "##.##.###.\n",
    "##...#.###\n",
    ".#.#.#..##\n",
    "..#....#..\n",
    "###...#.#.\n",
    "..###..###\n",
    "\n",
    "Tile 1951:\n",
    "#.##...##.\n",
    "#.####...#\n",
    ".....#..##\n",
    "#...######\n",
    ".##.#....#\n",
    ".###.#####\n",
    "###.##.##.\n",
    ".###....#.\n",
    "..#.#..#.#\n",
    "#...##.#..\n",
    "\n",
    "Tile 1171:\n",
    "####...##.\n",
    "#..##.#..#\n",
    "##.#..#.#.\n",
    ".###.####.\n",
    "..###.####\n",
    ".##....##.\n",
    ".#...####.\n",
    "#.##.####.\n",
    "####..#...\n",
    ".....##...\n",
    "\n",
    "Tile 1427:\n",
    "###.##.#..\n",
    ".#..#.##..\n",
    ".#.##.#..#\n",
    "#.#.#.##.#\n",
    "....#...##\n",
    "...##..##.\n",
    "...#.#####\n",
    ".#.####.#.\n",
    "..#..###.#\n",
    "..##.#..#.\n",
    "\n",
    "Tile 1489:\n",
    "##.#.#....\n",
    "..##...#..\n",
    ".##..##...\n",
    "..#...#...\n",
    "#####...#.\n",
    "#..#.#.#.#\n",
    "...#.#.#..\n",
    "##.#...##.\n",
    "..##.##.##\n",
    "###.##.#..\n",
    "\n",
    "Tile 2473:\n",
    "#....####.\n",
    "#..#.##...\n",
    "#.##..#...\n",
    "######.#.#\n",
    ".#...#.#.#\n",
    ".#########\n",
    ".###.#..#.\n",
    "########.#\n",
    "##...##.#.\n",
    "..###.#.#.\n",
    "\n",
    "Tile 2971:\n",
    "..#.#....#\n",
    "#...###...\n",
    "#.#.###...\n",
    "##.##..#..\n",
    ".#####..##\n",
    ".#..####.#\n",
    "#..#.#..#.\n",
    "..####.###\n",
    "..#.#.###.\n",
    "...#.#.#.#\n",
    "\n",
    "Tile 2729:\n",
    "...#.#.#.#\n",
    "####.#....\n",
    "..#.#.....\n",
    "....#..#.#\n",
    ".##..##.#.\n",
    ".#.####...\n",
    "####.#.#..\n",
    "##.####...\n",
    "##..#.##..\n",
    "#.##...##.\n",
    "\n",
    "Tile 3079:\n",
    "#.#.#####.\n",
    ".#..######\n",
    "..#.......\n",
    "######....\n",
    "####.#..#.\n",
    ".#...#.##.\n",
    "#.#####.##\n",
    "..#.###...\n",
    "..#.......\n",
    "..#.###...\"\"\""
   ]
  },
  {
   "cell_type": "code",
   "execution_count": null,
   "metadata": {},
   "outputs": [],
   "source": [
    "@unique\n",
    "class Border(Enum):\n",
    "    L: int = 0\n",
    "    R: int = 1\n",
    "    T: int = 2\n",
    "    B: int = 3"
   ]
  },
  {
   "cell_type": "code",
   "execution_count": null,
   "metadata": {},
   "outputs": [],
   "source": [
    "Border.L"
   ]
  },
  {
   "cell_type": "code",
   "execution_count": null,
   "metadata": {},
   "outputs": [],
   "source": [
    "from pprint import pprint\n",
    "Tile = namedtuple('Tile', ['L', 'R', 'T', 'B'], defaults=(None, None, None, None))\n",
    "\n",
    "def to_variations_dict(tile: str):\n",
    "    \n",
    "    def borders(grid):\n",
    "        m, n = grid.shape\n",
    "        L, R, T, B = grid[:, 0], grid[:, n-1], grid[0], grid[m-1]\n",
    "        return L, R, T, B\n",
    "    \n",
    "    def variations(grid):\n",
    "        rotated = [np.rot90(grid, n) for n in range(4)]\n",
    "        flipped = [np.fliplr(r_grid) for r_grid in rotated]\n",
    "        return rotated + flipped \n",
    "    \n",
    "    def binary_repr(border):\n",
    "        return ''.join(border).replace('.', '0').replace('#', '1')\n",
    "    \n",
    "    match = re.match(r'Tile (\\d+):\\n(.+)$', tile, flags=re.S)\n",
    "    \n",
    "    id_num, grid = int(match.group(1)), np.array([list(row) for row in match.group(2).split()])\n",
    "\n",
    "    tiles = {}\n",
    "    \n",
    "    for i, variation in enumerate(variations(grid)):\n",
    "        key = id_num, i\n",
    "        val = [(Border(j), int(binary_repr(border), 2))\n",
    "              for j, border in enumerate(borders(variation))]\n",
    "        tiles[key] = val  \n",
    "\n",
    "    return tiles"
   ]
  },
  {
   "cell_type": "code",
   "execution_count": null,
   "metadata": {},
   "outputs": [],
   "source": [
    "def parse_in20(text):\n",
    "    # Pre-parse text and combine resulting dicts into one dict\n",
    "    pre = {k: v for d in parse(text, parser=to_variations_dict, sep='\\n\\n') for k, v in d.items()}\n",
    "    \n",
    "    def complement(border):\n",
    "        btype, bval = border\n",
    "        return {\n",
    "            Border.L: Border.R,\n",
    "            Border.R: Border.L,\n",
    "            Border.T: Border.B,\n",
    "            Border.B: Border.T\n",
    "        }[btype], bval\n",
    "\n",
    "    # TODO: Comment\n",
    "    accepts = defaultdict(list)\n",
    "    for variation, borders in pre.items():\n",
    "        for border in borders:\n",
    "            accepts[complement(border)].append(variation)\n",
    "    \n",
    "    # Create the graph\n",
    "    graph = copy(pre)\n",
    "    for variation, borders in pre.items():\n",
    "        tile_id, _ = variation\n",
    "        new_borders = []\n",
    "        for border in borders:\n",
    "            x = [(link_id, link_var) for link_id, link_var in accepts.get(border) if link_id != tile_id]\n",
    "            if x:\n",
    "                assert len(x) == 1\n",
    "                new_borders.append(x[0])\n",
    "            else:\n",
    "                new_borders.append(None)\n",
    "\n",
    "        graph[variation] = new_borders\n",
    "    return graph"
   ]
  },
  {
   "cell_type": "code",
   "execution_count": null,
   "metadata": {},
   "outputs": [],
   "source": [
    "in20 = parse_in20(puzzle_input(20))"
   ]
  },
  {
   "cell_type": "code",
   "execution_count": null,
   "metadata": {},
   "outputs": [],
   "source": [
    "[key for key, val in in20.items() if val[0] == val[2] == None]"
   ]
  },
  {
   "cell_type": "code",
   "execution_count": null,
   "metadata": {},
   "outputs": [],
   "source": [
    "1453*1439*2477*2897"
   ]
  },
  {
   "cell_type": "markdown",
   "metadata": {},
   "source": [
    "## Day 21: Allergen Assessment"
   ]
  },
  {
   "cell_type": "markdown",
   "metadata": {},
   "source": [
    "[← Go Back](#Advent-of-Code-2020)"
   ]
  },
  {
   "cell_type": "code",
   "execution_count": null,
   "metadata": {},
   "outputs": [],
   "source": [
    "Food = namedtuple('Food', ['ingredients', 'allergens'])\n",
    "\n",
    "def parse_in21(food: str) -> Food:\n",
    "    ingredients, allergens = re.split(r' \\(contains ', food)\n",
    "    ingredients = set(re.findall(r'(\\w+)', ingredients))\n",
    "    allergens = set(re.findall(r'(\\w+)', allergens))\n",
    "    return Food(ingredients, allergens)"
   ]
  },
  {
   "cell_type": "code",
   "execution_count": null,
   "metadata": {},
   "outputs": [],
   "source": [
    "ex21_text = \"\"\"mxmxvkd kfcds sqjhc nhms (contains dairy, fish)\n",
    "trh fvjkl sbzzf mxmxvkd (contains dairy)\n",
    "sqjhc fvjkl (contains soy)\n",
    "sqjhc mxmxvkd sbzzf (contains fish)\"\"\""
   ]
  },
  {
   "cell_type": "code",
   "execution_count": null,
   "metadata": {},
   "outputs": [],
   "source": [
    "ex21 = tuple(parse(ex21_text, parser=parse_in21))"
   ]
  },
  {
   "cell_type": "code",
   "execution_count": null,
   "metadata": {},
   "outputs": [],
   "source": [
    "from pprint import pprint\n",
    "\n",
    "def all_ingredients(foods):\n",
    "    \"\"\"Returns all ingredients as they appear in `foods` (includes duplicate ingredients).\"\"\"\n",
    "    return [ingredient for food in foods for ingredient in food.ingredients]\n",
    "\n",
    "def find_allergens(foods):\n",
    "    \"\"\"Map each ingredient in `foods` to zero or one allergen.\"\"\"\n",
    "    ingredients_lists = defaultdict(list) \n",
    "    \n",
    "    for food in foods:\n",
    "        for allergen in food.allergens:\n",
    "            ingredients_lists[allergen].append(food.ingredients)\n",
    "    \n",
    "    suspect_ingredients = {allergen: set.intersection(*ingredients_lists[allergen])\n",
    "                           for allergen in ingredients_lists}\n",
    "    \n",
    "    found_allergen = dict.fromkeys(set(all_ingredients(foods)), None)\n",
    "    \n",
    "    while any([len(item[1]) != 1 for item in suspect_ingredients.items()]):\n",
    "         \n",
    "        for allergen, ingredients in suspect_ingredients.items():\n",
    "           \n",
    "            for ingredient in found_allergen:\n",
    "                if found_allergen[ingredient] and ingredients != {ingredient}:\n",
    "                    ingredients = ingredients - {ingredient}\n",
    "                    suspect_ingredients[allergen] = ingredients\n",
    "            \n",
    "            if len(ingredients) == 1:\n",
    "                ingredient = list(ingredients)[0]\n",
    "                found_allergen[ingredient] = allergen\n",
    "    \n",
    "    return found_allergen"
   ]
  },
  {
   "cell_type": "code",
   "execution_count": null,
   "metadata": {},
   "outputs": [],
   "source": [
    "def day21_1(foods):\n",
    "\n",
    "    found_allergens = find_allergens(foods)\n",
    "\n",
    "    return len([ingredient for ingredient in all_ingredients(foods)\n",
    "                if not found_allergens[ingredient]])"
   ]
  },
  {
   "cell_type": "code",
   "execution_count": null,
   "metadata": {},
   "outputs": [],
   "source": [
    "day21_1(ex21)"
   ]
  },
  {
   "cell_type": "code",
   "execution_count": null,
   "metadata": {},
   "outputs": [],
   "source": [
    "assert _ == 5"
   ]
  },
  {
   "cell_type": "code",
   "execution_count": null,
   "metadata": {},
   "outputs": [],
   "source": [
    "in21 = tuple(parse(puzzle_input(21), parser=parse_in21))"
   ]
  },
  {
   "cell_type": "code",
   "execution_count": null,
   "metadata": {},
   "outputs": [],
   "source": [
    "day21_1(in21)"
   ]
  },
  {
   "cell_type": "code",
   "execution_count": null,
   "metadata": {},
   "outputs": [],
   "source": [
    "assert _ == 2614"
   ]
  },
  {
   "cell_type": "code",
   "execution_count": null,
   "metadata": {},
   "outputs": [],
   "source": [
    "def day21_2(foods):\n",
    "    \n",
    "    found_allergens = find_allergens(foods)\n",
    "    \n",
    "    dangerous_ingredients = {allergen: ingredient for ingredient, allergen in found_allergens.items()\n",
    "                             if found_allergens[ingredient]}\n",
    "    \n",
    "    return ','.join(OrderedDict(sorted(dangerous_ingredients.items())).values())\n",
    "    "
   ]
  },
  {
   "cell_type": "code",
   "execution_count": null,
   "metadata": {},
   "outputs": [],
   "source": [
    "day21_2(ex21)"
   ]
  },
  {
   "cell_type": "code",
   "execution_count": null,
   "metadata": {},
   "outputs": [],
   "source": [
    "assert _ == 'mxmxvkd,sqjhc,fvjkl'"
   ]
  },
  {
   "cell_type": "code",
   "execution_count": null,
   "metadata": {},
   "outputs": [],
   "source": [
    "day21_2(in21)"
   ]
  },
  {
   "cell_type": "markdown",
   "metadata": {},
   "source": [
    "## Day 22: Crab Combat"
   ]
  },
  {
   "cell_type": "markdown",
   "metadata": {},
   "source": [
    "[← Go Back](#Advent-of-Code-2020)"
   ]
  },
  {
   "cell_type": "code",
   "execution_count": 3,
   "metadata": {},
   "outputs": [],
   "source": [
    "def score(deck: tuple[int]) -> int:\n",
    "    return sum(x * y for x, y in enumerate(reversed(deck), start=1))"
   ]
  },
  {
   "cell_type": "code",
   "execution_count": 4,
   "metadata": {},
   "outputs": [],
   "source": [
    "assert score(deque([3, 2, 10, 6, 8, 5, 9, 4, 7, 1])) == 306"
   ]
  },
  {
   "cell_type": "code",
   "execution_count": 5,
   "metadata": {},
   "outputs": [],
   "source": [
    "def play(decks: tuple[deque]):\n",
    "    \"\"\"Play a round of Combat.\"\"\"\n",
    "    \n",
    "    decks = deepcopy(decks)\n",
    "    \n",
    "    tops = [deck.popleft() for deck in decks]\n",
    "    \n",
    "    # Player with highest value card wins\n",
    "    player = tops.index(max(tops))\n",
    "    tops.sort(reverse=True)\n",
    "    \n",
    "    decks[player].extend(tops)\n",
    "    \n",
    "    return decks"
   ]
  },
  {
   "cell_type": "code",
   "execution_count": 6,
   "metadata": {},
   "outputs": [],
   "source": [
    "assert play((deque([9, 2, 6, 3, 1]), deque([5, 8, 4, 7, 10]))) == (deque([2, 6, 3, 1, 9, 5]), deque([8, 4, 7, 10]))"
   ]
  },
  {
   "cell_type": "code",
   "execution_count": 7,
   "metadata": {},
   "outputs": [],
   "source": [
    "def gameover(decks: tuple[tuple[int]]) -> int:\n",
    "\n",
    "    non_empty = [i for i, deck in enumerate(decks) if deck]\n",
    "    \n",
    "    return non_empty[0] if len(non_empty) == 1 else None"
   ]
  },
  {
   "cell_type": "code",
   "execution_count": null,
   "metadata": {},
   "outputs": [],
   "source": [
    "def combat(decks: tuple[deque]):\n",
    "    \"\"\"Play rounds of combat until one player wins.\"\"\"\n",
    "    while winner(decks) == None:\n",
    "        # Note that writing \"while not winner(decks)\" would lead to a bug if player 1 wins.\n",
    "        # This is because player 1 is represented as index zero in the rest of the code and zero\n",
    "        # is a falsy value in Python.\n",
    "        decks = play(decks)\n",
    "    \n",
    "    return winner(decks), decks"
   ]
  },
  {
   "cell_type": "code",
   "execution_count": 8,
   "metadata": {},
   "outputs": [],
   "source": [
    "ex22_text = \"\"\"Player 1:\n",
    "9\n",
    "2\n",
    "6\n",
    "3\n",
    "1\n",
    "\n",
    "Player 2:\n",
    "5\n",
    "8\n",
    "4\n",
    "7\n",
    "10\"\"\""
   ]
  },
  {
   "cell_type": "code",
   "execution_count": 9,
   "metadata": {},
   "outputs": [],
   "source": [
    "def parse_in22(player):\n",
    "    deck = map(int, re.findall(r'^(\\d+)', player, flags=re.MULTILINE))\n",
    "    return tuple(deck)"
   ]
  },
  {
   "cell_type": "code",
   "execution_count": 10,
   "metadata": {},
   "outputs": [],
   "source": [
    "ex22 = tuple(parse(ex22_text, parser=parse_in22, sep='\\n\\n'))"
   ]
  },
  {
   "cell_type": "code",
   "execution_count": 11,
   "metadata": {},
   "outputs": [],
   "source": [
    "in22 = tuple(parse(puzzle_input(22), parser=parse_in22, sep='\\n\\n'))"
   ]
  },
  {
   "cell_type": "code",
   "execution_count": null,
   "metadata": {},
   "outputs": [],
   "source": [
    "def day22_1(decks):\n",
    "    player, decks = combat(decks)\n",
    "    return score(decks[player])"
   ]
  },
  {
   "cell_type": "code",
   "execution_count": null,
   "metadata": {},
   "outputs": [],
   "source": [
    "assert day22_1(ex22) == 306"
   ]
  },
  {
   "cell_type": "code",
   "execution_count": null,
   "metadata": {},
   "outputs": [],
   "source": [
    "day22_1(deepcopy(in22))"
   ]
  },
  {
   "cell_type": "code",
   "execution_count": null,
   "metadata": {},
   "outputs": [],
   "source": [
    "assert _ == 33400"
   ]
  },
  {
   "cell_type": "code",
   "execution_count": 12,
   "metadata": {},
   "outputs": [],
   "source": [
    "def enough_cards(deck):\n",
    "    top, *remaining = deck\n",
    "    return tuple(remaining[:top]) if len(remaining) >= top else []\n"
   ]
  },
  {
   "cell_type": "code",
   "execution_count": 16,
   "metadata": {},
   "outputs": [],
   "source": [
    "verbose = False\n",
    "\n",
    "verboseprint = print if verbose else lambda *objects: None\n",
    "\n",
    "games = 0\n",
    "\n",
    "@cache\n",
    "def play_recursive(decks: tuple[tuple[int]], game=None, rounds=None) -> tuple[tuple[int]]:\n",
    "    \n",
    "\n",
    "    tops, remaining = zip(*tuple((top, tuple(remaining)) for top, *remaining in decks))\n",
    "    \n",
    "    verboseprint(f'Player 1\\'s deck: {decks[0]}\\nPlayer 2\\'s deck: {decks[1]}')\n",
    "    verboseprint(f'Player 1 plays: {tops[0]}\\nPlayer 2 plays: {tops[1]}')\n",
    "    \n",
    "    if all(decks_copy := tuple(enough_cards(deck) for deck in decks)):\n",
    "        \n",
    "        verboseprint('Playing a sub-game to determine the winner...\\n')\n",
    "                     \n",
    "        winner, _ = recursive_combat(decks_copy) \n",
    "        \n",
    "        verboseprint(f'...anyway, back to game {game}.')\n",
    "                     \n",
    "    else:\n",
    "        winner = tops.index(max(tops))\n",
    "        \n",
    "    verboseprint(f'Player {winner+1} wins round {rounds} of game {game}!\\n')\n",
    "\n",
    "    tops = (tops[winner],) + tuple(top for top in tops if top != tops[winner])    \n",
    "    \n",
    "    remaining = list(remaining)\n",
    "    remaining[winner] = remaining[winner] + tops\n",
    "    \n",
    "    return tuple(remaining)\n",
    "\n",
    "\n",
    "@cache\n",
    "def recursive_combat(decks: tuple[tuple[int]]):\n",
    "    \n",
    "    global games; games += 1\n",
    "    game = copy(games); rounds = 0\n",
    "    \n",
    "    prev_rounds = set()\n",
    "    \n",
    "    verboseprint(f'=== Game {game} ===\\n')\n",
    "    \n",
    "    while (winner := gameover(decks)) == None:\n",
    "        rounds += 1\n",
    "        verboseprint(f'--- Round {rounds} (Game {game}) ---')\n",
    "                     \n",
    "        if decks in prev_rounds:\n",
    "            return 0, decks[0]\n",
    "        \n",
    "        else: \n",
    "            prev_rounds.add(decks)\n",
    "            decks = play_recursive(decks, game=game, rounds=rounds)\n",
    "    \n",
    "    verboseprint(f'The winner of game {game} is player {winner+1}!\\n')\n",
    "    \n",
    "    return winner, decks[winner]"
   ]
  },
  {
   "cell_type": "code",
   "execution_count": 17,
   "metadata": {},
   "outputs": [],
   "source": [
    "def day22_2(decks: tuple[tuple[int]]) -> int:\n",
    "    winner, deck = recursive_combat(decks)\n",
    "    verboseprint(f'== Post-game results ==\\nPlayer 1\\'s deck: {decks[0]}\\nPlayer 2\\'s deck: {decks[1]}')\n",
    "    return score(deck)"
   ]
  },
  {
   "cell_type": "code",
   "execution_count": null,
   "metadata": {
    "tags": []
   },
   "outputs": [],
   "source": [
    "day22_2(in22)"
   ]
  },
  {
   "cell_type": "code",
   "execution_count": 18,
   "metadata": {},
   "outputs": [
    {
     "name": "stdout",
     "output_type": "stream",
     "text": [
      " "
     ]
    },
    {
     "data": {
      "text/plain": [
       "         25903093 function calls (24817780 primitive calls) in 22.308 seconds\n",
       "\n",
       "   Ordered by: internal time\n",
       "\n",
       "   ncalls  tottime  percall  cumtime  percall filename:lineno(function)\n",
       "1075128/921   10.789    0.000   22.303    0.024 <ipython-input-16-8e5ab4aa4f58>:7(play_recursive)\n",
       "  11107/1    3.099    0.000   22.308   22.308 <ipython-input-16-8e5ab4aa4f58>:37(recursive_combat)\n",
       "  3225384    2.145    0.000    2.145    0.000 <ipython-input-16-8e5ab4aa4f58>:11(<genexpr>)\n",
       "  2150256    1.672    0.000    1.903    0.000 <ipython-input-12-fda0ec711fa9>:1(enough_cards)\n",
       "  1086235    0.959    0.000    1.390    0.000 <ipython-input-7-2ccaa9206675>:1(gameover)\n",
       "  3225384    0.949    0.000    2.852    0.000 <ipython-input-16-8e5ab4aa4f58>:16(<genexpr>)\n",
       "  4346325    0.504    0.000    0.504    0.000 <ipython-input-16-8e5ab4aa4f58>:3(<lambda>)\n",
       "  2150256    0.434    0.000    0.434    0.000 <ipython-input-16-8e5ab4aa4f58>:29(<genexpr>)\n",
       "  1063329    0.401    0.000    0.401    0.000 {built-in method builtins.max}\n",
       "  3236491    0.348    0.000    0.348    0.000 {built-in method builtins.len}\n",
       "  1075128    0.319    0.000    0.319    0.000 {method 'add' of 'set' objects}\n",
       "  1086235    0.314    0.000    0.314    0.000 <ipython-input-7-2ccaa9206675>:3(<listcomp>)\n",
       "  1075128    0.218    0.000    0.218    0.000 {built-in method builtins.all}\n",
       "  1063329    0.143    0.000    0.143    0.000 {method 'index' of 'tuple' objects}\n",
       "    11107    0.012    0.000    0.016    0.000 copy.py:66(copy)\n",
       "    11107    0.003    0.000    0.003    0.000 {method 'get' of 'dict' objects}\n",
       "    11107    0.002    0.000    0.002    0.000 copy.py:107(_copy_immutable)\n",
       "        1    0.000    0.000   22.308   22.308 <ipython-input-17-3d8b6c89a46c>:1(day22_2)\n",
       "        1    0.000    0.000   22.308   22.308 {built-in method builtins.exec}\n",
       "       51    0.000    0.000    0.000    0.000 <ipython-input-3-816bd0319030>:2(<genexpr>)\n",
       "        1    0.000    0.000    0.000    0.000 {built-in method builtins.sum}\n",
       "        1    0.000    0.000    0.000    0.000 <ipython-input-3-816bd0319030>:1(score)\n",
       "        1    0.000    0.000   22.308   22.308 <string>:1(<module>)\n",
       "        1    0.000    0.000    0.000    0.000 {method 'disable' of '_lsprof.Profiler' objects}"
      ]
     },
     "metadata": {},
     "output_type": "display_data"
    }
   ],
   "source": [
    "%prun day22_2(in22)"
   ]
  },
  {
   "cell_type": "code",
   "execution_count": null,
   "metadata": {},
   "outputs": [],
   "source": []
  }
 ],
 "metadata": {
  "kernelspec": {
   "display_name": "Python 3",
   "language": "python",
   "name": "python3"
  },
  "language_info": {
   "codemirror_mode": {
    "name": "ipython",
    "version": 3
   },
   "file_extension": ".py",
   "mimetype": "text/x-python",
   "name": "python",
   "nbconvert_exporter": "python",
   "pygments_lexer": "ipython3",
   "version": "3.9.0"
  }
 },
 "nbformat": 4,
 "nbformat_minor": 4
}
